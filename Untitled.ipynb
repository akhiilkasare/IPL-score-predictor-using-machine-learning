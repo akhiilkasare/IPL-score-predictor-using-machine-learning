{
 "cells": [
  {
   "cell_type": "code",
   "execution_count": 1,
   "metadata": {},
   "outputs": [],
   "source": [
    "import pandas as pd\n",
    "import matplotlib.pyplot as plt\n",
    "import numpy as np\n",
    "import seaborn as sns\n",
    "%matplotlib inline\n",
    "\n",
    "import warnings\n",
    "warnings.filterwarnings('ignore')"
   ]
  },
  {
   "cell_type": "code",
   "execution_count": 2,
   "metadata": {},
   "outputs": [],
   "source": [
    "#Loading the dataset\n",
    "df = pd.read_csv('/home/akhil/Downloads/machine_learning/IPL-First-Innings-Score-Prediction-Deployment/ipl.csv')"
   ]
  },
  {
   "cell_type": "code",
   "execution_count": 3,
   "metadata": {},
   "outputs": [
    {
     "data": {
      "text/html": [
       "<div>\n",
       "<style scoped>\n",
       "    .dataframe tbody tr th:only-of-type {\n",
       "        vertical-align: middle;\n",
       "    }\n",
       "\n",
       "    .dataframe tbody tr th {\n",
       "        vertical-align: top;\n",
       "    }\n",
       "\n",
       "    .dataframe thead th {\n",
       "        text-align: right;\n",
       "    }\n",
       "</style>\n",
       "<table border=\"1\" class=\"dataframe\">\n",
       "  <thead>\n",
       "    <tr style=\"text-align: right;\">\n",
       "      <th></th>\n",
       "      <th>mid</th>\n",
       "      <th>date</th>\n",
       "      <th>venue</th>\n",
       "      <th>bat_team</th>\n",
       "      <th>bowl_team</th>\n",
       "      <th>batsman</th>\n",
       "      <th>bowler</th>\n",
       "      <th>runs</th>\n",
       "      <th>wickets</th>\n",
       "      <th>overs</th>\n",
       "      <th>runs_last_5</th>\n",
       "      <th>wickets_last_5</th>\n",
       "      <th>striker</th>\n",
       "      <th>non-striker</th>\n",
       "      <th>total</th>\n",
       "    </tr>\n",
       "  </thead>\n",
       "  <tbody>\n",
       "    <tr>\n",
       "      <th>0</th>\n",
       "      <td>1</td>\n",
       "      <td>2008-04-18</td>\n",
       "      <td>M Chinnaswamy Stadium</td>\n",
       "      <td>Kolkata Knight Riders</td>\n",
       "      <td>Royal Challengers Bangalore</td>\n",
       "      <td>SC Ganguly</td>\n",
       "      <td>P Kumar</td>\n",
       "      <td>1</td>\n",
       "      <td>0</td>\n",
       "      <td>0.1</td>\n",
       "      <td>1</td>\n",
       "      <td>0</td>\n",
       "      <td>0</td>\n",
       "      <td>0</td>\n",
       "      <td>222</td>\n",
       "    </tr>\n",
       "    <tr>\n",
       "      <th>1</th>\n",
       "      <td>1</td>\n",
       "      <td>2008-04-18</td>\n",
       "      <td>M Chinnaswamy Stadium</td>\n",
       "      <td>Kolkata Knight Riders</td>\n",
       "      <td>Royal Challengers Bangalore</td>\n",
       "      <td>BB McCullum</td>\n",
       "      <td>P Kumar</td>\n",
       "      <td>1</td>\n",
       "      <td>0</td>\n",
       "      <td>0.2</td>\n",
       "      <td>1</td>\n",
       "      <td>0</td>\n",
       "      <td>0</td>\n",
       "      <td>0</td>\n",
       "      <td>222</td>\n",
       "    </tr>\n",
       "    <tr>\n",
       "      <th>2</th>\n",
       "      <td>1</td>\n",
       "      <td>2008-04-18</td>\n",
       "      <td>M Chinnaswamy Stadium</td>\n",
       "      <td>Kolkata Knight Riders</td>\n",
       "      <td>Royal Challengers Bangalore</td>\n",
       "      <td>BB McCullum</td>\n",
       "      <td>P Kumar</td>\n",
       "      <td>2</td>\n",
       "      <td>0</td>\n",
       "      <td>0.2</td>\n",
       "      <td>2</td>\n",
       "      <td>0</td>\n",
       "      <td>0</td>\n",
       "      <td>0</td>\n",
       "      <td>222</td>\n",
       "    </tr>\n",
       "    <tr>\n",
       "      <th>3</th>\n",
       "      <td>1</td>\n",
       "      <td>2008-04-18</td>\n",
       "      <td>M Chinnaswamy Stadium</td>\n",
       "      <td>Kolkata Knight Riders</td>\n",
       "      <td>Royal Challengers Bangalore</td>\n",
       "      <td>BB McCullum</td>\n",
       "      <td>P Kumar</td>\n",
       "      <td>2</td>\n",
       "      <td>0</td>\n",
       "      <td>0.3</td>\n",
       "      <td>2</td>\n",
       "      <td>0</td>\n",
       "      <td>0</td>\n",
       "      <td>0</td>\n",
       "      <td>222</td>\n",
       "    </tr>\n",
       "    <tr>\n",
       "      <th>4</th>\n",
       "      <td>1</td>\n",
       "      <td>2008-04-18</td>\n",
       "      <td>M Chinnaswamy Stadium</td>\n",
       "      <td>Kolkata Knight Riders</td>\n",
       "      <td>Royal Challengers Bangalore</td>\n",
       "      <td>BB McCullum</td>\n",
       "      <td>P Kumar</td>\n",
       "      <td>2</td>\n",
       "      <td>0</td>\n",
       "      <td>0.4</td>\n",
       "      <td>2</td>\n",
       "      <td>0</td>\n",
       "      <td>0</td>\n",
       "      <td>0</td>\n",
       "      <td>222</td>\n",
       "    </tr>\n",
       "  </tbody>\n",
       "</table>\n",
       "</div>"
      ],
      "text/plain": [
       "   mid        date                  venue               bat_team  \\\n",
       "0    1  2008-04-18  M Chinnaswamy Stadium  Kolkata Knight Riders   \n",
       "1    1  2008-04-18  M Chinnaswamy Stadium  Kolkata Knight Riders   \n",
       "2    1  2008-04-18  M Chinnaswamy Stadium  Kolkata Knight Riders   \n",
       "3    1  2008-04-18  M Chinnaswamy Stadium  Kolkata Knight Riders   \n",
       "4    1  2008-04-18  M Chinnaswamy Stadium  Kolkata Knight Riders   \n",
       "\n",
       "                     bowl_team      batsman   bowler  runs  wickets  overs  \\\n",
       "0  Royal Challengers Bangalore   SC Ganguly  P Kumar     1        0    0.1   \n",
       "1  Royal Challengers Bangalore  BB McCullum  P Kumar     1        0    0.2   \n",
       "2  Royal Challengers Bangalore  BB McCullum  P Kumar     2        0    0.2   \n",
       "3  Royal Challengers Bangalore  BB McCullum  P Kumar     2        0    0.3   \n",
       "4  Royal Challengers Bangalore  BB McCullum  P Kumar     2        0    0.4   \n",
       "\n",
       "   runs_last_5  wickets_last_5  striker  non-striker  total  \n",
       "0            1               0        0            0    222  \n",
       "1            1               0        0            0    222  \n",
       "2            2               0        0            0    222  \n",
       "3            2               0        0            0    222  \n",
       "4            2               0        0            0    222  "
      ]
     },
     "execution_count": 3,
     "metadata": {},
     "output_type": "execute_result"
    }
   ],
   "source": [
    "df.head()"
   ]
  },
  {
   "cell_type": "code",
   "execution_count": 4,
   "metadata": {},
   "outputs": [
    {
     "name": "stdout",
     "output_type": "stream",
     "text": [
      "<class 'pandas.core.frame.DataFrame'>\n",
      "RangeIndex: 76014 entries, 0 to 76013\n",
      "Data columns (total 15 columns):\n",
      "mid               76014 non-null int64\n",
      "date              76014 non-null object\n",
      "venue             76014 non-null object\n",
      "bat_team          76014 non-null object\n",
      "bowl_team         76014 non-null object\n",
      "batsman           76014 non-null object\n",
      "bowler            76014 non-null object\n",
      "runs              76014 non-null int64\n",
      "wickets           76014 non-null int64\n",
      "overs             76014 non-null float64\n",
      "runs_last_5       76014 non-null int64\n",
      "wickets_last_5    76014 non-null int64\n",
      "striker           76014 non-null int64\n",
      "non-striker       76014 non-null int64\n",
      "total             76014 non-null int64\n",
      "dtypes: float64(1), int64(8), object(6)\n",
      "memory usage: 8.7+ MB\n"
     ]
    }
   ],
   "source": [
    "df.info()"
   ]
  },
  {
   "cell_type": "code",
   "execution_count": 5,
   "metadata": {},
   "outputs": [
    {
     "data": {
      "text/html": [
       "<div>\n",
       "<style scoped>\n",
       "    .dataframe tbody tr th:only-of-type {\n",
       "        vertical-align: middle;\n",
       "    }\n",
       "\n",
       "    .dataframe tbody tr th {\n",
       "        vertical-align: top;\n",
       "    }\n",
       "\n",
       "    .dataframe thead th {\n",
       "        text-align: right;\n",
       "    }\n",
       "</style>\n",
       "<table border=\"1\" class=\"dataframe\">\n",
       "  <thead>\n",
       "    <tr style=\"text-align: right;\">\n",
       "      <th></th>\n",
       "      <th>mid</th>\n",
       "      <th>runs</th>\n",
       "      <th>wickets</th>\n",
       "      <th>overs</th>\n",
       "      <th>runs_last_5</th>\n",
       "      <th>wickets_last_5</th>\n",
       "      <th>striker</th>\n",
       "      <th>non-striker</th>\n",
       "      <th>total</th>\n",
       "    </tr>\n",
       "  </thead>\n",
       "  <tbody>\n",
       "    <tr>\n",
       "      <th>count</th>\n",
       "      <td>76014.000000</td>\n",
       "      <td>76014.000000</td>\n",
       "      <td>76014.000000</td>\n",
       "      <td>76014.000000</td>\n",
       "      <td>76014.000000</td>\n",
       "      <td>76014.000000</td>\n",
       "      <td>76014.000000</td>\n",
       "      <td>76014.000000</td>\n",
       "      <td>76014.000000</td>\n",
       "    </tr>\n",
       "    <tr>\n",
       "      <th>mean</th>\n",
       "      <td>308.627740</td>\n",
       "      <td>74.889349</td>\n",
       "      <td>2.415844</td>\n",
       "      <td>9.783068</td>\n",
       "      <td>33.216434</td>\n",
       "      <td>1.120307</td>\n",
       "      <td>24.962283</td>\n",
       "      <td>8.869287</td>\n",
       "      <td>160.901452</td>\n",
       "    </tr>\n",
       "    <tr>\n",
       "      <th>std</th>\n",
       "      <td>178.156878</td>\n",
       "      <td>48.823327</td>\n",
       "      <td>2.015207</td>\n",
       "      <td>5.772587</td>\n",
       "      <td>14.914174</td>\n",
       "      <td>1.053343</td>\n",
       "      <td>20.079752</td>\n",
       "      <td>10.795742</td>\n",
       "      <td>29.246231</td>\n",
       "    </tr>\n",
       "    <tr>\n",
       "      <th>min</th>\n",
       "      <td>1.000000</td>\n",
       "      <td>0.000000</td>\n",
       "      <td>0.000000</td>\n",
       "      <td>0.000000</td>\n",
       "      <td>0.000000</td>\n",
       "      <td>0.000000</td>\n",
       "      <td>0.000000</td>\n",
       "      <td>0.000000</td>\n",
       "      <td>67.000000</td>\n",
       "    </tr>\n",
       "    <tr>\n",
       "      <th>25%</th>\n",
       "      <td>154.000000</td>\n",
       "      <td>34.000000</td>\n",
       "      <td>1.000000</td>\n",
       "      <td>4.600000</td>\n",
       "      <td>24.000000</td>\n",
       "      <td>0.000000</td>\n",
       "      <td>10.000000</td>\n",
       "      <td>1.000000</td>\n",
       "      <td>142.000000</td>\n",
       "    </tr>\n",
       "    <tr>\n",
       "      <th>50%</th>\n",
       "      <td>308.000000</td>\n",
       "      <td>70.000000</td>\n",
       "      <td>2.000000</td>\n",
       "      <td>9.600000</td>\n",
       "      <td>34.000000</td>\n",
       "      <td>1.000000</td>\n",
       "      <td>20.000000</td>\n",
       "      <td>5.000000</td>\n",
       "      <td>162.000000</td>\n",
       "    </tr>\n",
       "    <tr>\n",
       "      <th>75%</th>\n",
       "      <td>463.000000</td>\n",
       "      <td>111.000000</td>\n",
       "      <td>4.000000</td>\n",
       "      <td>14.600000</td>\n",
       "      <td>43.000000</td>\n",
       "      <td>2.000000</td>\n",
       "      <td>35.000000</td>\n",
       "      <td>13.000000</td>\n",
       "      <td>181.000000</td>\n",
       "    </tr>\n",
       "    <tr>\n",
       "      <th>max</th>\n",
       "      <td>617.000000</td>\n",
       "      <td>263.000000</td>\n",
       "      <td>10.000000</td>\n",
       "      <td>19.600000</td>\n",
       "      <td>113.000000</td>\n",
       "      <td>7.000000</td>\n",
       "      <td>175.000000</td>\n",
       "      <td>109.000000</td>\n",
       "      <td>263.000000</td>\n",
       "    </tr>\n",
       "  </tbody>\n",
       "</table>\n",
       "</div>"
      ],
      "text/plain": [
       "                mid          runs       wickets         overs   runs_last_5  \\\n",
       "count  76014.000000  76014.000000  76014.000000  76014.000000  76014.000000   \n",
       "mean     308.627740     74.889349      2.415844      9.783068     33.216434   \n",
       "std      178.156878     48.823327      2.015207      5.772587     14.914174   \n",
       "min        1.000000      0.000000      0.000000      0.000000      0.000000   \n",
       "25%      154.000000     34.000000      1.000000      4.600000     24.000000   \n",
       "50%      308.000000     70.000000      2.000000      9.600000     34.000000   \n",
       "75%      463.000000    111.000000      4.000000     14.600000     43.000000   \n",
       "max      617.000000    263.000000     10.000000     19.600000    113.000000   \n",
       "\n",
       "       wickets_last_5       striker   non-striker         total  \n",
       "count    76014.000000  76014.000000  76014.000000  76014.000000  \n",
       "mean         1.120307     24.962283      8.869287    160.901452  \n",
       "std          1.053343     20.079752     10.795742     29.246231  \n",
       "min          0.000000      0.000000      0.000000     67.000000  \n",
       "25%          0.000000     10.000000      1.000000    142.000000  \n",
       "50%          1.000000     20.000000      5.000000    162.000000  \n",
       "75%          2.000000     35.000000     13.000000    181.000000  \n",
       "max          7.000000    175.000000    109.000000    263.000000  "
      ]
     },
     "execution_count": 5,
     "metadata": {},
     "output_type": "execute_result"
    }
   ],
   "source": [
    "df.describe()"
   ]
  },
  {
   "cell_type": "code",
   "execution_count": 6,
   "metadata": {},
   "outputs": [
    {
     "data": {
      "text/plain": [
       "mid               0\n",
       "date              0\n",
       "venue             0\n",
       "bat_team          0\n",
       "bowl_team         0\n",
       "batsman           0\n",
       "bowler            0\n",
       "runs              0\n",
       "wickets           0\n",
       "overs             0\n",
       "runs_last_5       0\n",
       "wickets_last_5    0\n",
       "striker           0\n",
       "non-striker       0\n",
       "total             0\n",
       "dtype: int64"
      ]
     },
     "execution_count": 6,
     "metadata": {},
     "output_type": "execute_result"
    }
   ],
   "source": [
    "#Checking for null values\n",
    "df.isnull().sum()"
   ]
  },
  {
   "cell_type": "code",
   "execution_count": 7,
   "metadata": {},
   "outputs": [
    {
     "name": "stdout",
     "output_type": "stream",
     "text": [
      "date : ['2008-04-18' '2008-04-19' '2008-04-20' '2008-04-21' '2008-04-22'\n",
      " '2008-04-23' '2008-04-24' '2008-04-25' '2008-04-26' '2008-04-27'\n",
      " '2008-04-28' '2008-04-29' '2008-04-30' '2008-05-01' '2008-05-02'\n",
      " '2008-05-25' '2008-05-03' '2008-05-04' '2008-05-05' '2008-05-06'\n",
      " '2008-05-07' '2008-05-08' '2008-05-09' '2008-05-28' '2008-05-10'\n",
      " '2008-05-11' '2008-05-12' '2008-05-13' '2008-05-14' '2008-05-15'\n",
      " '2008-05-16' '2008-05-17' '2008-05-18' '2008-05-19' '2008-05-20'\n",
      " '2008-05-21' '2008-05-23' '2008-05-24' '2008-05-26' '2008-05-27'\n",
      " '2008-05-30' '2008-05-31' '2008-06-01' '2009-04-18' '2009-04-19'\n",
      " '2009-04-20' '2009-04-22' '2009-04-23' '2009-04-24' '2009-04-25'\n",
      " '2009-04-26' '2009-04-27' '2009-04-28' '2009-04-29' '2009-04-30'\n",
      " '2009-05-01' '2009-05-02' '2009-05-03' '2009-05-04' '2009-05-05'\n",
      " '2009-05-06' '2009-05-07' '2009-05-08' '2009-05-09' '2009-05-10'\n",
      " '2009-05-11' '2009-05-12' '2009-05-13' '2009-05-14' '2009-05-15'\n",
      " '2009-05-16' '2009-05-17' '2009-05-18' '2009-05-19' '2009-05-20'\n",
      " '2009-05-21' '2009-05-22' '2009-05-23' '2009-05-24' '2010-03-12'\n",
      " '2010-03-13' '2010-03-14' '2010-03-15' '2010-03-16' '2010-03-17'\n",
      " '2010-03-18' '2010-03-19' '2010-03-20' '2010-03-21' '2010-03-22'\n",
      " '2010-03-23' '2010-03-24' '2010-03-25' '2010-03-26' '2010-03-27'\n",
      " '2010-03-28' '2010-03-29' '2010-03-30' '2010-03-31' '2010-04-01'\n",
      " '2010-04-02' '2010-04-03' '2010-04-04' '2010-04-05' '2010-04-06'\n",
      " '2010-04-07' '2010-04-08' '2010-04-09' '2010-04-10' '2010-04-11'\n",
      " '2010-04-12' '2010-04-13' '2010-04-14' '2010-04-15' '2010-04-16'\n",
      " '2010-04-17' '2010-04-18' '2010-04-19' '2010-04-21' '2010-04-22'\n",
      " '2010-04-24' '2010-04-25' '2011-04-08' '2011-04-09' '2011-04-10'\n",
      " '2011-04-11' '2011-04-12' '2011-04-13' '2011-04-14' '2011-04-15'\n",
      " '2011-04-16' '2011-04-17' '2011-04-19' '2011-04-20' '2011-04-21'\n",
      " '2011-04-22' '2011-04-23' '2011-04-24' '2011-04-25' '2011-04-26'\n",
      " '2011-04-27' '2011-04-28' '2011-04-29' '2011-04-30' '2011-05-01'\n",
      " '2011-05-02' '2011-05-03' '2011-05-04' '2011-05-05' '2011-05-06'\n",
      " '2011-05-07' '2011-05-08' '2011-05-09' '2011-05-10' '2011-05-11'\n",
      " '2011-05-12' '2011-05-13' '2011-05-14' '2011-05-15' '2011-05-16'\n",
      " '2011-05-17' '2011-05-18' '2011-05-19' '2011-05-20' '2011-05-21'\n",
      " '2011-05-22' '2011-05-24' '2011-05-25' '2011-05-27' '2011-05-28'\n",
      " '2012-04-04' '2012-04-05' '2012-04-06' '2012-04-07' '2012-04-08'\n",
      " '2012-04-09' '2012-04-10' '2012-04-11' '2012-04-12' '2012-04-13'\n",
      " '2012-04-19' '2012-04-14' '2012-04-15' '2012-04-16' '2012-04-17'\n",
      " '2012-04-18' '2012-05-10' '2012-04-20' '2012-04-21' '2012-04-22'\n",
      " '2012-04-23' '2012-04-24' '2012-04-25' '2012-04-26' '2012-04-27'\n",
      " '2012-04-28' '2012-04-29' '2012-04-30' '2012-05-01' '2012-05-02'\n",
      " '2012-05-03' '2012-05-04' '2012-05-05' '2012-05-06' '2012-05-07'\n",
      " '2012-05-08' '2012-05-09' '2012-05-11' '2012-05-12' '2012-05-13'\n",
      " '2012-05-14' '2012-05-15' '2012-05-16' '2012-05-17' '2012-05-18'\n",
      " '2012-05-19' '2012-05-20' '2012-05-22' '2012-05-23' '2012-05-25'\n",
      " '2012-05-27' '2013-04-03' '2013-04-04' '2013-04-05' '2013-04-06'\n",
      " '2013-04-07' '2013-04-08' '2013-04-09' '2013-04-10' '2013-04-11'\n",
      " '2013-04-12' '2013-04-13' '2013-04-14' '2013-04-15' '2013-04-16'\n",
      " '2013-04-17' '2013-04-18' '2013-04-19' '2013-04-20' '2013-04-21'\n",
      " '2013-04-22' '2013-04-23' '2013-05-16' '2013-04-24' '2013-04-25'\n",
      " '2013-04-26' '2013-04-27' '2013-04-28' '2013-04-29' '2013-04-30'\n",
      " '2013-05-01' '2013-05-02' '2013-05-03' '2013-05-04' '2013-05-14'\n",
      " '2013-05-05' '2013-05-07' '2013-05-08' '2013-05-09' '2013-05-10'\n",
      " '2013-05-11' '2013-05-12' '2013-05-13' '2013-05-15' '2013-05-06'\n",
      " '2013-05-17' '2013-05-18' '2013-05-19' '2013-05-21' '2013-05-22'\n",
      " '2013-05-24' '2013-05-26' '2014-04-16' '2014-04-17' '2014-04-18'\n",
      " '2014-04-19' '2014-04-20' '2014-04-21' '2014-04-22' '2014-04-23'\n",
      " '2014-04-24' '2014-04-25' '2014-04-26' '2014-04-27' '2014-04-28'\n",
      " '2014-04-29' '2014-04-30' '2014-05-02' '2014-05-03' '2014-05-04'\n",
      " '2014-05-05' '2014-05-06' '2014-05-07' '2014-05-08' '2014-05-09'\n",
      " '2014-05-10' '2014-05-11' '2014-05-12' '2014-05-13' '2014-05-14'\n",
      " '2014-05-15' '2014-05-18' '2014-05-19' '2014-05-20' '2014-05-21'\n",
      " '2014-05-22' '2014-05-23' '2014-05-24' '2014-05-25' '2014-05-27'\n",
      " '2014-05-28' '2014-05-30' '2014-06-01' '2015-04-08' '2015-04-09'\n",
      " '2015-04-10' '2015-04-11' '2015-04-12' '2015-04-13' '2015-04-14'\n",
      " '2015-04-30' '2015-04-15' '2015-04-16' '2015-04-17' '2015-04-18'\n",
      " '2015-04-19' '2015-04-20' '2015-04-21' '2015-04-22' '2015-04-23'\n",
      " '2015-04-24' '2015-04-25' '2015-04-26' '2015-04-27' '2015-05-07'\n",
      " '2015-04-28' '2015-05-01' '2015-05-02' '2015-05-03' '2015-05-04'\n",
      " '2015-05-05' '2015-05-06' '2015-05-08' '2015-05-09' '2015-05-10'\n",
      " '2015-05-11' '2015-05-12' '2015-05-13' '2015-05-14' '2015-05-16'\n",
      " '2015-05-17' '2015-05-19' '2015-05-20' '2015-05-22' '2015-05-24'\n",
      " '2016-04-09' '2016-04-10' '2016-04-11' '2016-04-12' '2016-04-13'\n",
      " '2016-04-14' '2016-04-15' '2016-04-16' '2016-04-17' '2016-04-18'\n",
      " '2016-04-19' '2016-04-20' '2016-04-21' '2016-04-22' '2016-04-23'\n",
      " '2016-04-24' '2016-04-25' '2016-04-27' '2016-04-28' '2016-04-29'\n",
      " '2016-04-30' '2016-05-01' '2016-05-02' '2016-05-03' '2016-05-04'\n",
      " '2016-05-05' '2016-05-06' '2016-05-07' '2016-05-08' '2016-05-09'\n",
      " '2016-05-10' '2016-05-11' '2016-05-12' '2016-05-13' '2016-05-14'\n",
      " '2016-05-15' '2016-05-16' '2016-05-19' '2016-05-20' '2016-05-21'\n",
      " '2016-05-22' '2016-05-24' '2016-05-25' '2016-05-27' '2016-05-29'\n",
      " '2017-04-05' '2017-04-06' '2017-04-07' '2017-04-08' '2017-04-09'\n",
      " '2017-04-10' '2017-04-11' '2017-04-12' '2017-04-13' '2017-04-14'\n",
      " '2017-04-15' '2017-04-16' '2017-04-17' '2017-04-18' '2017-04-19'\n",
      " '2017-04-20' '2017-04-21' '2017-04-22' '2017-04-23' '2017-04-24'\n",
      " '2017-04-26' '2017-04-27' '2017-04-28' '2017-04-29' '2017-04-30'\n",
      " '2017-05-01' '2017-05-02' '2017-05-03' '2017-05-04' '2017-05-05'\n",
      " '2017-05-06' '2017-05-07' '2017-05-08' '2017-05-09' '2017-05-10'\n",
      " '2017-05-11' '2017-05-12' '2017-05-13' '2017-05-14' '2017-05-16'\n",
      " '2017-05-19' '2017-05-21']\n",
      "====================================\n",
      "venue : ['M Chinnaswamy Stadium' 'Punjab Cricket Association Stadium, Mohali'\n",
      " 'Feroz Shah Kotla' 'Wankhede Stadium' 'Eden Gardens'\n",
      " 'Sawai Mansingh Stadium' 'Rajiv Gandhi International Stadium, Uppal'\n",
      " 'MA Chidambaram Stadium, Chepauk' 'Dr DY Patil Sports Academy' 'Newlands'\n",
      " \"St George's Park\" 'Kingsmead' 'SuperSport Park' 'Buffalo Park'\n",
      " 'New Wanderers Stadium' 'De Beers Diamond Oval' 'OUTsurance Oval'\n",
      " 'Brabourne Stadium' 'Sardar Patel Stadium, Motera' 'Barabati Stadium'\n",
      " 'Vidarbha Cricket Association Stadium, Jamtha'\n",
      " 'Himachal Pradesh Cricket Association Stadium' 'Nehru Stadium'\n",
      " 'Holkar Cricket Stadium'\n",
      " 'Dr. Y.S. Rajasekhara Reddy ACA-VDCA Cricket Stadium'\n",
      " 'Subrata Roy Sahara Stadium'\n",
      " 'Shaheed Veer Narayan Singh International Stadium'\n",
      " 'JSCA International Stadium Complex' 'Sheikh Zayed Stadium'\n",
      " 'Sharjah Cricket Stadium' 'Dubai International Cricket Stadium'\n",
      " 'Maharashtra Cricket Association Stadium'\n",
      " 'Punjab Cricket Association IS Bindra Stadium, Mohali'\n",
      " 'Saurashtra Cricket Association Stadium' 'Green Park']\n",
      "====================================\n",
      "bat_team : ['Kolkata Knight Riders' 'Chennai Super Kings' 'Rajasthan Royals'\n",
      " 'Mumbai Indians' 'Deccan Chargers' 'Kings XI Punjab'\n",
      " 'Royal Challengers Bangalore' 'Delhi Daredevils' 'Kochi Tuskers Kerala'\n",
      " 'Pune Warriors' 'Sunrisers Hyderabad' 'Rising Pune Supergiants'\n",
      " 'Gujarat Lions' 'Rising Pune Supergiant']\n",
      "====================================\n",
      "bowl_team : ['Royal Challengers Bangalore' 'Kings XI Punjab' 'Delhi Daredevils'\n",
      " 'Kolkata Knight Riders' 'Rajasthan Royals' 'Mumbai Indians'\n",
      " 'Chennai Super Kings' 'Deccan Chargers' 'Pune Warriors'\n",
      " 'Kochi Tuskers Kerala' 'Sunrisers Hyderabad' 'Rising Pune Supergiants'\n",
      " 'Gujarat Lions' 'Rising Pune Supergiant']\n",
      "====================================\n",
      "batsman : ['SC Ganguly' 'BB McCullum' 'RT Ponting' 'DJ Hussey' 'Mohammad Hafeez'\n",
      " 'PA Patel' 'ML Hayden' 'MEK Hussey' 'MS Dhoni' 'SK Raina' 'JDP Oram'\n",
      " 'S Badrinath' 'T Kohli' 'YK Pathan' 'SR Watson' 'M Kaif' 'DS Lehmann'\n",
      " 'RA Jadeja' 'M Rawat' 'D Salunkhe' 'SK Warne' 'SK Trivedi' 'L Ronchi'\n",
      " 'ST Jayasuriya' 'DJ Thornely' 'RV Uthappa' 'PR Shah' 'AM Nayar'\n",
      " 'SM Pollock' 'Harbhajan Singh' 'AC Gilchrist' 'Y Venugopal Rao'\n",
      " 'VVS Laxman' 'A Symonds' 'RG Sharma' 'SB Styris' 'AS Yadav' 'SB Bangar'\n",
      " 'WPUJC Vaas' 'RP Singh' 'K Goel' 'JR Hopes' 'KC Sangakkara'\n",
      " 'DPMD Jayawardene' 'Yuvraj Singh' 'IK Pathan' 'S Sohal' 'B Lee'\n",
      " 'PP Chawla' 'WA Mota' 'Shahid Afridi' 'RR Sarwan' 'S Sreesanth'\n",
      " 'VRV Singh' 'S Chanderpaul' 'R Dravid' 'LRPL Taylor' 'JH Kallis'\n",
      " 'V Kohli' 'MV Boucher' 'P Kumar' 'SB Joshi' 'Z Khan' 'R Vinay Kumar'\n",
      " 'WP Saha' 'LR Shukla' 'AB Agarkar' 'M Kartik' 'I Sharma' 'AM Rahane'\n",
      " 'DJ Bravo' 'MA Khote' 'G Gambhir' 'V Sehwag' 'S Dhawan' 'Shoaib Malik'\n",
      " 'MK Tiwary' 'KD Karthik' 'R Bhatia' 'MF Maharoof' 'VY Mahesh' 'DB Das'\n",
      " 'HH Gibbs' 'DNT Zoysa' 'D Kalyankrishna' 'GC Smith' 'SA Asnodkar'\n",
      " 'Sohail Tanvir' 'SP Fleming' 'S Vidyut' 'JA Morkel' 'LPC Silva'\n",
      " 'DB Ravi Teja' 'SE Marsh' 'YV Takawale' 'SS Tiwary' 'RR Raje'\n",
      " 'Joginder Sharma' 'MS Gony' 'M Muralitharan' 'M Ntini' 'W Jaffer'\n",
      " 'CL White' 'Misbah-ul-Haq' 'DT Patil' 'A Kumble' 'DW Steyn' 'S Anirudha'\n",
      " 'MM Patel' 'AB de Villiers' 'A Chopra' 'BJ Hodge' 'T Taibu' 'Umar Gul'\n",
      " 'PP Ojha' 'SP Goswami' 'B Akhil' 'Salman Butt' 'TM Dilshan' 'A Mishra'\n",
      " 'J Arunkumar' 'Iqbal Abdulla' 'CK Kapugedera' 'LA Pomersbach'\n",
      " 'Shoaib Akhtar' 'AB Dinda' 'SR Tendulkar' 'B Chipli' 'DR Smith'\n",
      " 'SD Chitnis' 'Kamran Akmal' 'TM Srivastava' 'MK Pandey' 'RR Powar'\n",
      " 'JP Duminy' 'JD Ryder' 'KP Pietersen' 'CH Gayle' 'MC Henriques'\n",
      " 'A Flintoff' 'FH Edwards' 'PC Valthaty' 'RJ Quiney' 'AD Mascarenhas'\n",
      " 'AS Raut' 'Pankaj Singh' 'RS Bopara' 'DL Vettori' 'M Manhas' 'PJ Sangwan'\n",
      " 'MN van Wyk' 'AA Bilakhia' 'TL Suman' 'Shoaib Ahmed' 'GR Napier'\n",
      " 'R Bishnoi' 'RE van der Merwe' 'KP Appanna' 'M Vijay' 'SB Jakati'\n",
      " 'L Balaji' 'NV Ojha' 'LA Carseldine' 'RJ Harris' 'D du Preez'\n",
      " 'DS Kulkarni' 'SM Harwood' 'Yashpal Singh' 'AN Ghosh' 'AD Mathews'\n",
      " 'SM Katich' 'DA Warner' 'J Botha' 'A Nehra' 'Mashrafe Mortaza'\n",
      " 'GJ Bailey' 'AB McDonald' 'Y Nagar' 'Niraj Patel' 'T Henderson' 'A Singh'\n",
      " 'R Ashwin' 'T Thushara' 'Mohammad Ashraful' 'CA Pujara' 'OA Shah'\n",
      " 'AP Tare' 'AT Rayudu' 'R Sathish' 'R McLaren' 'MS Bisla' 'YA Abdulla'\n",
      " 'EJG Morgan' 'AA Jhunjhunwala' 'P Dogra' 'A Uniyal' 'KA Pollard'\n",
      " 'MJ Lumb' 'DR Martyn' 'S Narwal' 'M Morkel' 'Anirudh Singh'\n",
      " 'Jaskaran Singh' 'FY Fazal' 'AC Voges' 'MD Mishra' 'J Theron' 'R Sharma'\n",
      " 'Mandeep Singh' 'KM Jadhav' 'SW Tait' 'PD Collingwood' 'VS Malik'\n",
      " 'SJ Srivastava' 'AP Dole' 'Bipul Sharma' 'DE Bollinger' 'BAW Mendis'\n",
      " 'B Sumanth' 'C Madan' 'AG Paunikar' 'AJ Finch' 'MR Marsh' 'STR Binny'\n",
      " 'IR Jaggi' 'DT Christian' 'RV Gomez' 'UBT Chand' 'UT Yadav' 'Sunny Singh'\n",
      " 'NJ Rimmington' 'MA Agarwal' 'AUK Pathan' 'AL Menaria' 'DJ Jacobs'\n",
      " 'WD Parnell' 'TD Paine' 'SB Wagh' 'AC Thomas' 'BJ Haddin' 'NLTC Perera'\n",
      " 'MS Wade' 'JE Taylor' 'RN ten Doeschate' 'SL Malinga' 'AG Murtaza'\n",
      " 'TR Birt' 'Harpreet Singh' 'NL McCullum' 'DH Yagnik' 'AC Blizzard'\n",
      " 'M Klinger' 'I Malhotra' 'A Mithun' 'P Parameswaran' 'AA Chavan'\n",
      " 'ND Doshi' 'CJ Ferguson' 'B Kumar' 'S Rana' 'JEC Franklin'\n",
      " 'Shakib Al Hasan' 'F du Plessis' 'SPD Smith' 'MN Samuels' 'KK Cooper'\n",
      " 'HV Patel' 'Ankit Sharma' 'RE Levi' 'RR Bhatkal' 'Harmeet Singh'\n",
      " 'BA Bhatt' 'CJ McKay' 'DJ Harris' 'N Saini' 'DA Miller' 'Azhar Mahmood'\n",
      " 'A Ashish Reddy' 'V Pratap Singh' 'BB Samantray' 'RJ Peterson' 'S Nadeem'\n",
      " 'VR Aaron' 'MJ Clarke' 'AP Majumdar' 'Gurkeerat Singh' 'P Awana'\n",
      " 'SP Narine' 'A Chandila' 'PA Reddy' 'MC Juneja' 'AD Russell' 'KK Nair'\n",
      " 'KB Arun Karthik' 'GH Vihari' 'MDKJ Perera' 'R Shukla' 'JD Unadkat'\n",
      " 'M Vohra' 'JP Faulkner' 'R Rampaul' 'BJ Rohrer' 'Q de Kock' 'KV Sharma'\n",
      " 'SMSM Senanayake' 'LJ Wright' 'X Thalaivan Sargunam' 'DJG Sammy'\n",
      " 'MG Johnson' 'A Mukund' 'SV Samson' 'BMAJ Mendis' 'KL Rahul' 'CM Gautam'\n",
      " 'KW Richardson' 'Parvez Rasool' 'GJ Maxwell' 'R Dhawan' 'SA Yadav'\n",
      " 'CJ Anderson' 'JJ Bumrah' 'CA Lynn' 'MA Starc' 'AR Patel'\n",
      " 'Sandeep Sharma' 'BR Dunk' 'Shivam Sharma' 'LMP Simmons' 'VH Zol'\n",
      " 'BCJ Cutting' 'Mohammed Shami' 'BE Hendricks' 'S Gopal' 'M de Lange'\n",
      " 'RR Rossouw' 'JO Holder' 'JDS Neesham' 'Imran Tahir' 'MM Sharma'\n",
      " 'DJ Hooda' 'CH Morris' 'SS Iyer' 'SA Abbott' 'AN Ahmed' 'YS Chahal'\n",
      " 'J Suchith' 'P Negi' 'RG More' 'Anureet Singh' 'HH Pandya'\n",
      " 'NM Coulter-Nile' 'PV Tambe' 'MJ McClenaghan' 'DJ Muthuswami' 'SN Thakur'\n",
      " 'SN Khan' 'D Wiese' 'S Aravind' 'JC Buttler' 'CR Brathwaite' 'MP Stoinis'\n",
      " 'C Munro' 'P Sahu' 'KH Pandya' 'TG Southee' 'MJ Guptill' 'KJ Abbott'\n",
      " 'TM Head' 'AD Nath' 'NS Naik' 'Ishan Kishan' 'SW Billings' 'RR Pant'\n",
      " 'KS Williamson' 'KC Cariappa' 'PSP Handscomb' 'Sachin Baby' 'J Yadav'\n",
      " 'UT Khawaja' 'HM Amla' 'BB Sran' 'N Rana' 'F Behardien' 'ER Dwivedi'\n",
      " 'JJ Roy' 'BA Stokes' 'Vishnu Vinod' 'TS Mills' 'Basil Thampi' 'CR Woakes'\n",
      " 'V Shankar' 'Rashid Khan' 'RA Tripathi' 'RD Chahar' 'LH Ferguson'\n",
      " 'C de Grandhomme' 'PJ Cummins' 'Mohammad Nabi' 'Kuldeep Yadav'\n",
      " 'Washington Sundar' 'S Badree' 'A Choudhary' 'AR Bawne' 'AJ Tye'\n",
      " 'Ankit Soni' 'K Rabada' 'AF Milne' 'SP Jackson' 'Swapnil Singh'\n",
      " 'R Tewatia' 'AS Rajpoot']\n",
      "====================================\n",
      "bowler : ['P Kumar' 'Z Khan' 'AA Noffke' 'JH Kallis' 'SB Joshi' 'CL White' 'B Lee'\n",
      " 'S Sreesanth' 'JR Hopes' 'IK Pathan' 'K Goel' 'PP Chawla' 'WA Mota'\n",
      " 'GD McGrath' 'B Geeves' 'MF Maharoof' 'R Bhatia' 'DL Vettori'\n",
      " 'R Vinay Kumar' 'B Akhil' 'AB Dinda' 'I Sharma' 'AB Agarkar' 'M Kartik'\n",
      " 'Mohammad Hafeez' 'DJ Hussey' 'MM Patel' 'SR Watson' 'SK Trivedi'\n",
      " 'SK Warne' 'D Salunkhe' 'Pankaj Singh' 'YK Pathan' 'Mohammad Asif'\n",
      " 'VY Mahesh' 'SM Pollock' 'A Nehra' 'DS Kulkarni' 'Harbhajan Singh'\n",
      " 'DJ Bravo' 'VS Yeligati' 'AM Nayar' 'MA Khote' 'Sohail Tanvir' 'JDP Oram'\n",
      " 'MS Gony' 'P Amarnath' 'M Muralitharan' 'Joginder Sharma' 'RP Singh'\n",
      " 'DNT Zoysa' 'SB Bangar' 'Shahid Afridi' 'PP Ojha' 'D Kalyankrishna'\n",
      " 'VRV Singh' 'Yuvraj Singh' 'DW Steyn' 'CRD Fernando' 'ST Jayasuriya'\n",
      " 'V Kohli' 'Gagandeep Singh' 'Umar Gul' 'SC Ganguly' 'LR Shukla'\n",
      " 'PJ Sangwan' 'Shoaib Malik' 'V Sehwag' 'A Kumble' 'DP Vijaykumar'\n",
      " 'SB Styris' 'RR Raje' 'JA Morkel' 'L Balaji' 'CK Kapugedera' 'DR Smith'\n",
      " 'WPUJC Vaas' 'Y Venugopal Rao' 'AD Mascarenhas' 'A Mishra' 'DJ Thornely'\n",
      " 'PM Sarvesh Kumar' 'Abdur Razzak' 'TM Dilshan' 'SD Chitnis' 'M Ntini'\n",
      " 'RR Powar' 'SK Raina' 'BAW Mendis' 'T Thushara' 'A Flintoff'\n",
      " 'Kamran Khan' 'T Henderson' 'FH Edwards' 'Harmeet Singh' 'KP Pietersen'\n",
      " 'LRPL Taylor' 'JD Ryder' 'Anureet Singh' 'CH Gayle' 'RR Bose'\n",
      " 'YA Abdulla' 'RS Bopara' 'SL Malinga' 'DP Nannes' 'RG Sharma'\n",
      " 'Shoaib Ahmed' 'BJ Hodge' 'RA Jadeja' 'RE van der Merwe' 'KP Appanna'\n",
      " 'JP Duminy' 'SR Tendulkar' 'VS Malik' 'SM Harwood' 'AS Raut' 'D du Preez'\n",
      " 'RJ Harris' 'TL Suman' 'A Singh' 'M Morkel' 'LA Carseldine' 'S Tyagi'\n",
      " 'SB Jakati' 'A Mithun' 'AM Rahane' 'A Symonds' 'C Nanda' 'J Botha'\n",
      " 'CK Langeveldt' 'SS Sarkar' 'AM Salvi' 'Jaskaran Singh' 'SW Tait'\n",
      " 'A Uniyal' 'AA Jhunjhunwala' 'AD Mathews' 'RS Gavaskar' 'R Ashwin'\n",
      " 'JM Kemp' 'S Ladda' 'SE Bond' 'SJ Srivastava' 'Bipul Sharma' 'Y Nagar'\n",
      " 'UT Yadav' 'MC Henriques' 'R McLaren' 'J Theron' 'S Narwal' 'AC Voges'\n",
      " 'KAJ Roach' 'KA Pollard' 'C Ganapathy' 'SB Wagh' 'R Sharma' 'AN Ahmed'\n",
      " 'R Sathish' 'AP Dole' 'FY Fazal' 'PD Collingwood' 'MR Marsh' 'L Ablish'\n",
      " 'S Sriram' 'AB McDonald' 'DE Bollinger' 'JD Unadkat' 'MK Tiwary'\n",
      " 'ND Doshi' 'Iqbal Abdulla' 'AL Menaria' 'STR Binny' 'AUK Pathan'\n",
      " 'AG Murtaza' 'JEC Franklin' 'AC Thomas' 'WD Parnell' 'M Manhas'\n",
      " 'DT Christian' 'DB Ravi Teja' 'BA Bhatt' 'JJ van der Wath' 'S Aravind'\n",
      " 'R Ninan' 'Shakib Al Hasan' 'NLTC Perera' 'RV Gomez' 'PC Valthaty'\n",
      " 'S Nadeem' 'S Randiv' 'J Syed Mohammad' 'NL McCullum' 'JE Taylor'\n",
      " 'KMDN Kulasekara' 'TG Southee' 'P Parameswaran' 'S Dhawan' 'B Kumar'\n",
      " 'AA Kazi' 'VR Aaron' 'P Prasanth' 'Y Gnaneswara Rao' 'AA Chavan'\n",
      " 'RW Price' 'GJ Maxwell' 'JP Faulkner' 'DAJ Bracewell' 'Ankit Sharma'\n",
      " 'DJ Harris' 'TP Sudhindra' 'SP Narine' 'HV Patel' 'KK Cooper' 'GB Hogg'\n",
      " 'P Awana' 'MN Samuels' 'AD Russell' 'Azhar Mahmood' 'A Chandila' 'P Negi'\n",
      " 'RJ Peterson' 'CJ McKay' 'R Shukla' 'MJ Clarke' 'V Pratap Singh'\n",
      " 'A Ashish Reddy' 'BW Hilfenhaus' 'K Upadhyay' 'Sunny Gupta' 'MG Johnson'\n",
      " 'JJ Bumrah' 'AS Rajpoot' 'B Laughlin' 'GH Vihari' 'Mohammed Shami'\n",
      " 'BMAJ Mendis' 'CH Morris' 'Anand Rajan' 'AJ Finch' 'MM Sharma'\n",
      " 'KV Sharma' 'SMSM Senanayake' 'R Rampaul' 'R Dhawan' 'JO Holder'\n",
      " 'IC Pandey' 'LJ Wright' 'S Kaul' 'YS Chahal' 'KW Richardson' 'DJG Sammy'\n",
      " 'Sandeep Sharma' 'PV Tambe' 'Parvez Rasool' 'RN ten Doeschate' 'MG Neser'\n",
      " 'NM Coulter-Nile' 'CJ Anderson' 'MA Starc' 'AR Patel' 'JDS Neesham'\n",
      " 'M Vijay' 'SA Yadav' 'S Badree' 'R Tewatia' 'V Shankar' 'Imran Tahir'\n",
      " 'Shivam Sharma' 'S Rana' 'BE Hendricks' 'PJ Cummins' 'K Santokie'\n",
      " 'S Gopal' 'Karanveer Singh' 'DJ Muthuswami' 'TA Boult' 'SA Abbott'\n",
      " 'DJ Hooda' 'P Suyal' 'J Suchith' 'D Wiese' 'MJ McClenaghan' 'HH Pandya'\n",
      " 'RG More' 'GS Sandhu' 'M de Lange' 'J Yadav' 'Gurkeerat Singh' 'M Ashwin'\n",
      " 'JW Hastings' 'C Munro' 'Mustafizur Rahman' 'CR Brathwaite' 'KJ Abbott'\n",
      " 'P Sahu' 'BB Sran' 'KH Pandya' 'S Kaushik' 'T Shamsi' 'MP Stoinis'\n",
      " 'Swapnil Singh' 'SM Boland' 'CJ Jordan' 'KC Cariappa' 'A Zampa'\n",
      " 'BCJ Cutting' 'DL Chahar' 'KS Williamson' 'Kuldeep Yadav' 'TS Mills'\n",
      " 'A Choudhary' 'TM Head' 'BA Stokes' 'CR Woakes' 'T Natarajan'\n",
      " 'Rashid Khan' 'C de Grandhomme' 'Basil Thampi' 'AJ Tye' 'AF Milne'\n",
      " 'K Rabada' 'Washington Sundar' 'SN Thakur' 'SS Agarwal' 'NB Singh'\n",
      " 'Ankit Soni' 'Mohammad Nabi' 'Mohammed Siraj' 'LH Ferguson']\n",
      "====================================\n"
     ]
    }
   ],
   "source": [
    "#Checking for categorical columns\n",
    "\n",
    "categorical_col = []\n",
    "for column in df.columns:\n",
    "    if df[column].dtype == object and len(df[column].unique()):\n",
    "        categorical_col.append(column)\n",
    "        print(f\"{column} : {df[column].unique()}\")\n",
    "        print(\"====================================\")"
   ]
  },
  {
   "cell_type": "code",
   "execution_count": 8,
   "metadata": {},
   "outputs": [
    {
     "name": "stdout",
     "output_type": "stream",
     "text": [
      "mid : [  1   2   3   4   5   6   7   8   9  10  11  12  13  14  15  16  17  18\n",
      "  19  20  21  22  23  24  25  26  27  28  29  30  31  32  33  34  35  36\n",
      "  37  38  39  40  41  42  43  44  45  46  47  48  49  50  51  52  53  54\n",
      "  55  56  57  58  59  60  61  62  63  64  65  66  67  68  69  70  71  72\n",
      "  73  74  75  76  77  78  79  80  81  82  83  84  85  86  87  88  89  90\n",
      "  91  92  93  94  95  96  97  98  99 100 101 102 103 104 105 106 107 108\n",
      " 109 110 111 112 113 114 115 116 117 118 119 120 121 122 123 124 125 126\n",
      " 127 128 129 130 131 132 133 134 135 136 137 138 139 140 141 142 143 144\n",
      " 145 146 147 148 149 150 151 152 153 154 155 156 157 158 159 160 161 162\n",
      " 163 164 165 166 167 168 169 170 171 172 173 174 175 176 177 178 179 180\n",
      " 181 182 183 184 185 186 187 188 189 190 191 192 193 194 195 196 197 198\n",
      " 199 200 201 202 203 204 205 206 207 208 209 210 211 212 213 214 215 216\n",
      " 217 218 219 220 221 222 223 224 225 226 227 228 229 230 231 232 233 234\n",
      " 235 236 237 238 239 240 241 242 243 244 245 246 247 248 249 250 251 252\n",
      " 253 254 255 256 257 258 259 260 261 262 263 264 265 266 267 268 269 270\n",
      " 271 272 273 274 275 276 277 278 279 280 281 282 283 284 285 286 287 288\n",
      " 289 290 291 292 293 294 295 296 297 298 299 300 301 302 303 304 305 306\n",
      " 307 308 309 310 311 312 313 314 315 316 317 318 319 320 321 322 323 324\n",
      " 325 326 327 328 329 330 331 332 333 334 335 336 337 338 339 340 341 342\n",
      " 343 344 345 346 347 348 349 350 351 352 353 354 355 356 357 358 359 360\n",
      " 361 362 363 364 365 366 367 368 369 370 371 372 373 374 375 376 377 378\n",
      " 379 380 381 382 383 384 385 386 387 388 389 390 391 392 393 394 395 396\n",
      " 397 398 399 400 401 402 403 404 405 406 407 408 409 410 411 412 413 414\n",
      " 415 416 417 418 419 420 421 422 423 424 425 426 427 428 429 430 431 432\n",
      " 433 434 435 436 437 438 439 440 441 442 443 444 445 446 447 448 449 450\n",
      " 451 452 453 454 455 456 457 458 459 460 461 462 463 464 465 466 467 468\n",
      " 469 470 471 472 473 474 475 476 477 478 479 480 481 482 483 484 485 486\n",
      " 487 488 489 490 491 492 493 494 495 496 497 498 499 500 501 502 503 504\n",
      " 505 506 507 508 509 510 511 512 513 514 515 516 517 518 519 520 521 522\n",
      " 523 524 525 526 527 528 529 530 531 532 533 534 535 536 537 538 539 540\n",
      " 541 542 543 544 545 546 547 548 549 550 551 552 553 554 555 556 557 558\n",
      " 559 560 561 562 563 564 565 566 567 568 569 570 571 572 573 574 575 576\n",
      " 577 578 579 580 581 582 583 584 585 586 587 588 589 590 591 592 593 594\n",
      " 595 596 597 598 599 600 601 602 603 604 605 606 607 608 609 610 611 612\n",
      " 613 614 615 616 617]\n",
      "====================================\n",
      "runs : [  1   2   3   7  11  17  21  22  26  27  32  38  39  43  44  50  54  55\n",
      "  59  60  61  62  63  64  66  67  68  69  70  71  72  73  74  75  77  78\n",
      "  79  80  86  87  88  92  98 102 108 110 111 112 116 118 119 123 124 125\n",
      " 126 127 128 130 134 135 141 145 147 148 154 155 157 158 159 161 162 168\n",
      " 170 172 173 174 178 179 185 191 195 196 200 206 212 214 216 222   0   5\n",
      "   9  13  19  20  25  28  29  33  34  42  46  52  53  57  58  76  82  83\n",
      "  85  94  95  97 103 107 113 117 129 131 132 133 136 142 143 150 151 167\n",
      " 169 171 177 181 182 183 187 188 190 204 205 207 213 215 221 227 231 232\n",
      " 238 240   8  18  31  36  37  40  41  45  47  48  49  51  56  65  84  93\n",
      "  96 100 104 106 109 120 121   4  23  35  81  99 101 105 114 137 138 149\n",
      " 152 163 164 165  10  12  14  15  16  89   6  24 115 140 153 156 166  30\n",
      "  90 122  91 139 144 192 194 201 208 160 186 197 198 199 203 146 175 176\n",
      " 180 184 189 202 193 209 210 211 218 220 226 228 229 235 241 242 246 223\n",
      " 230 219 224 233 234 239 245 251 252 253 259 260 262 263 217 225 236 248]\n",
      "====================================\n",
      "wickets : [ 0  1  2  3  4  5  6  7  8  9 10]\n",
      "====================================\n",
      "overs : [ 0.1  0.2  0.3  0.4  0.5  0.6  1.1  1.2  1.3  1.4  1.5  1.6  2.1  2.2\n",
      "  2.3  2.4  2.5  2.6  3.   3.1  3.2  3.3  3.4  3.5  3.6  4.1  4.2  4.3\n",
      "  4.4  4.5  4.6  5.1  5.2  5.3  5.4  5.5  5.6  6.1  6.2  6.3  6.4  6.5\n",
      "  6.6  7.1  7.2  7.3  7.4  7.5  7.6  8.1  8.2  8.3  8.4  8.5  8.6  9.1\n",
      "  9.2  9.3  9.4  9.5  9.6 10.1 10.2 10.3 10.4 10.5 10.6 11.1 11.2 11.3\n",
      " 11.4 11.5 11.6 12.1 12.2 12.3 12.4 12.5 12.6 13.1 13.2 13.3 13.4 13.5\n",
      " 13.6 14.1 14.2 14.3 14.4 14.5 14.6 15.1 15.2 15.3 15.4 15.5 15.6 16.1\n",
      " 16.2 16.3 16.4 16.5 16.6 17.1 17.2 17.3 17.4 17.5 17.6 18.1 18.2 18.3\n",
      " 18.4 18.5 18.6 19.1 19.2 19.3 19.4 19.5 19.6 12.   4.   7.  19.   9.\n",
      "  0.  15.   5.  16.   1.  18.   2.  11.  14.   6.  13.   8.  17.  10. ]\n",
      "====================================\n",
      "runs_last_5 : [  1   2   3   7  11  17  21  22  26  27  32  38  39  43  44  50  54  55\n",
      "  59  58  52  47  45  46  41  35  34  30  31  24  37  40  51  61  60  62\n",
      "  57  56  49  64  67  66  71  69  68   0   5   9  13  19  20  25  28  29\n",
      "  33  42  48  53  65  63  70  72  74  79  81  83   8  18  36  23   4  10\n",
      "  12  14  15  16   6  76  77  80  86  75  78  85  73  88  87  93  94  89\n",
      "  92  91  82  84  95 100 104 109 110 111 113 112]\n",
      "====================================\n",
      "wickets_last_5 : [0 1 2 3 4 5 6 7]\n",
      "====================================\n",
      "striker : [  0   4   8  14  18  22  23  29  35  39  40  41  42  43  44  45  46  47\n",
      "  48  50  51  57  58  59  65  67  68  72  74  78  79  80  81  83  89  93\n",
      "  99 101 102 103 109 111 113 114 118 119 125 131 135 136 142 148 150 152\n",
      " 158   1   5   9  13  15  10  20  21  25  16  17  19  26  28  30  36  37\n",
      "  52  53  63  64  75  76  82  86  87  95 100 106 108 116   6   7   3  11\n",
      "  12  24  32  33  34  38  27   2  31  49  55  56  60  66  61  71  69  70\n",
      "  77  91  92  94 107 112 117  54  62  73  88  90  85  84  97 104 110 115\n",
      " 105  98  96 121 127 120 128 122 126 137 143 147 153 154 155 156 160 161\n",
      " 165 166 167 173 174 175 124 132 133 129 123]\n",
      "====================================\n",
      "non-striker : [  0   4   5   9  10   1   3   6   7   8  13  19  20   2  11  12  14  15\n",
      "  21  25  31  32  26  30  16  17  18  27  35  36  37  41  47  48  50  51\n",
      "  53  22  24  29  33  23  28  42  46  34  43  49  45  39  44  52  38  54\n",
      "  55  40  56  58  59  60  61  62  66  67  68  72  73  74  75  76  78  79\n",
      "  63  57  64  65  69  71  81  82  70  80  87  93  95  97 103 109]\n",
      "====================================\n",
      "total : [222 240 129 165 110 166 142 208 214 182 135 147 154 158 178 137 191 164\n",
      " 196 169 162 109 126 144 103 187 140 122 181 204 156 143 133 221 194  67\n",
      " 197 189 175 176 211 174 145 192 112 163 101 179 184 150 168 149 139 119\n",
      " 148 141 153 105 116 157 123 173 120 160 134 188 170 146 161 212 190 203\n",
      " 218  92 185 151 171 136 155 183 180 177 172 246 200 159 138 111 130 132\n",
      "  82  95  81 118 195 231  94 205 125  97 232 152 198 128 193 115 131 124\n",
      " 207 100 186 114 215  99 209 117 263  80 223 106  70 201 226 199 127 167\n",
      " 235 113 202 121  98 227 248 206 213 230  73 107]\n",
      "====================================\n"
     ]
    }
   ],
   "source": [
    "#Checking for numerical columns\n",
    "\n",
    "numerical_col = []\n",
    "for column in df.columns:\n",
    "    if df[column].dtype != object and len(df[column].unique()):\n",
    "        numerical_col.append(column)\n",
    "        print(f\"{column} : {df[column].unique()}\")\n",
    "        print(\"====================================\")"
   ]
  },
  {
   "cell_type": "code",
   "execution_count": 9,
   "metadata": {},
   "outputs": [
    {
     "data": {
      "text/plain": [
       "<matplotlib.axes._subplots.AxesSubplot at 0x7fc33a061278>"
      ]
     },
     "execution_count": 9,
     "metadata": {},
     "output_type": "execute_result"
    },
    {
     "data": {
      "image/png": "[encoded data removed]",
      "text/plain": [
       "<Figure size 432x288 with 2 Axes>"
      ]
     },
     "metadata": {
      "needs_background": "light"
     },
     "output_type": "display_data"
    }
   ],
   "source": [
    "#Creating a correlation matrix\n",
    "corr_mat = df.corr()\n",
    "top_corr_features = corr_mat.index\n",
    "\n",
    "sns.heatmap(df[top_corr_features].corr(), annot=True, cmap=\"RdYlGn\", )"
   ]
  },
  {
   "cell_type": "code",
   "execution_count": 10,
   "metadata": {},
   "outputs": [
    {
     "name": "stdout",
     "output_type": "stream",
     "text": [
      "The highly correlated features are : ['mid', 'runs', 'wickets', 'overs', 'runs_last_5', 'wickets_last_5', 'striker', 'non-striker', 'total']\n"
     ]
    }
   ],
   "source": [
    "highly_corr_features = list(corr_mat[corr_mat > 0.8])\n",
    "print(\"The highly correlated features are : {}\".format(highly_corr_features))"
   ]
  },
  {
   "cell_type": "markdown",
   "metadata": {},
   "source": [
    "### Data Cleaning \n",
    "\n",
    "* Removing unwanted columns"
   ]
  },
  {
   "cell_type": "code",
   "execution_count": 11,
   "metadata": {},
   "outputs": [],
   "source": [
    "columns_to_remove = ['mid', 'venue', 'batsman', 'bowler']\n",
    "df.drop(labels=columns_to_remove, axis=1, inplace=True)"
   ]
  },
  {
   "cell_type": "code",
   "execution_count": 12,
   "metadata": {},
   "outputs": [
    {
     "data": {
      "text/plain": [
       "array(['Kolkata Knight Riders', 'Chennai Super Kings', 'Rajasthan Royals',\n",
       "       'Mumbai Indians', 'Deccan Chargers', 'Kings XI Punjab',\n",
       "       'Royal Challengers Bangalore', 'Delhi Daredevils',\n",
       "       'Kochi Tuskers Kerala', 'Pune Warriors', 'Sunrisers Hyderabad',\n",
       "       'Rising Pune Supergiants', 'Gujarat Lions',\n",
       "       'Rising Pune Supergiant'], dtype=object)"
      ]
     },
     "execution_count": 12,
     "metadata": {},
     "output_type": "execute_result"
    }
   ],
   "source": [
    "df['bat_team'].unique()"
   ]
  },
  {
   "cell_type": "code",
   "execution_count": 13,
   "metadata": {},
   "outputs": [
    {
     "data": {
      "text/html": [
       "<div>\n",
       "<style scoped>\n",
       "    .dataframe tbody tr th:only-of-type {\n",
       "        vertical-align: middle;\n",
       "    }\n",
       "\n",
       "    .dataframe tbody tr th {\n",
       "        vertical-align: top;\n",
       "    }\n",
       "\n",
       "    .dataframe thead th {\n",
       "        text-align: right;\n",
       "    }\n",
       "</style>\n",
       "<table border=\"1\" class=\"dataframe\">\n",
       "  <thead>\n",
       "    <tr style=\"text-align: right;\">\n",
       "      <th></th>\n",
       "      <th>date</th>\n",
       "      <th>bat_team</th>\n",
       "      <th>bowl_team</th>\n",
       "      <th>runs</th>\n",
       "      <th>wickets</th>\n",
       "      <th>overs</th>\n",
       "      <th>runs_last_5</th>\n",
       "      <th>wickets_last_5</th>\n",
       "      <th>striker</th>\n",
       "      <th>non-striker</th>\n",
       "      <th>total</th>\n",
       "    </tr>\n",
       "  </thead>\n",
       "  <tbody>\n",
       "    <tr>\n",
       "      <th>0</th>\n",
       "      <td>2008-04-18</td>\n",
       "      <td>Kolkata Knight Riders</td>\n",
       "      <td>Royal Challengers Bangalore</td>\n",
       "      <td>1</td>\n",
       "      <td>0</td>\n",
       "      <td>0.1</td>\n",
       "      <td>1</td>\n",
       "      <td>0</td>\n",
       "      <td>0</td>\n",
       "      <td>0</td>\n",
       "      <td>222</td>\n",
       "    </tr>\n",
       "    <tr>\n",
       "      <th>1</th>\n",
       "      <td>2008-04-18</td>\n",
       "      <td>Kolkata Knight Riders</td>\n",
       "      <td>Royal Challengers Bangalore</td>\n",
       "      <td>1</td>\n",
       "      <td>0</td>\n",
       "      <td>0.2</td>\n",
       "      <td>1</td>\n",
       "      <td>0</td>\n",
       "      <td>0</td>\n",
       "      <td>0</td>\n",
       "      <td>222</td>\n",
       "    </tr>\n",
       "    <tr>\n",
       "      <th>2</th>\n",
       "      <td>2008-04-18</td>\n",
       "      <td>Kolkata Knight Riders</td>\n",
       "      <td>Royal Challengers Bangalore</td>\n",
       "      <td>2</td>\n",
       "      <td>0</td>\n",
       "      <td>0.2</td>\n",
       "      <td>2</td>\n",
       "      <td>0</td>\n",
       "      <td>0</td>\n",
       "      <td>0</td>\n",
       "      <td>222</td>\n",
       "    </tr>\n",
       "    <tr>\n",
       "      <th>3</th>\n",
       "      <td>2008-04-18</td>\n",
       "      <td>Kolkata Knight Riders</td>\n",
       "      <td>Royal Challengers Bangalore</td>\n",
       "      <td>2</td>\n",
       "      <td>0</td>\n",
       "      <td>0.3</td>\n",
       "      <td>2</td>\n",
       "      <td>0</td>\n",
       "      <td>0</td>\n",
       "      <td>0</td>\n",
       "      <td>222</td>\n",
       "    </tr>\n",
       "    <tr>\n",
       "      <th>4</th>\n",
       "      <td>2008-04-18</td>\n",
       "      <td>Kolkata Knight Riders</td>\n",
       "      <td>Royal Challengers Bangalore</td>\n",
       "      <td>2</td>\n",
       "      <td>0</td>\n",
       "      <td>0.4</td>\n",
       "      <td>2</td>\n",
       "      <td>0</td>\n",
       "      <td>0</td>\n",
       "      <td>0</td>\n",
       "      <td>222</td>\n",
       "    </tr>\n",
       "  </tbody>\n",
       "</table>\n",
       "</div>"
      ],
      "text/plain": [
       "         date               bat_team                    bowl_team  runs  \\\n",
       "0  2008-04-18  Kolkata Knight Riders  Royal Challengers Bangalore     1   \n",
       "1  2008-04-18  Kolkata Knight Riders  Royal Challengers Bangalore     1   \n",
       "2  2008-04-18  Kolkata Knight Riders  Royal Challengers Bangalore     2   \n",
       "3  2008-04-18  Kolkata Knight Riders  Royal Challengers Bangalore     2   \n",
       "4  2008-04-18  Kolkata Knight Riders  Royal Challengers Bangalore     2   \n",
       "\n",
       "   wickets  overs  runs_last_5  wickets_last_5  striker  non-striker  total  \n",
       "0        0    0.1            1               0        0            0    222  \n",
       "1        0    0.2            1               0        0            0    222  \n",
       "2        0    0.2            2               0        0            0    222  \n",
       "3        0    0.3            2               0        0            0    222  \n",
       "4        0    0.4            2               0        0            0    222  "
      ]
     },
     "execution_count": 13,
     "metadata": {},
     "output_type": "execute_result"
    }
   ],
   "source": [
    "df.head()"
   ]
  },
  {
   "cell_type": "code",
   "execution_count": 14,
   "metadata": {},
   "outputs": [],
   "source": [
    "#Keeping only consistent teams\n",
    "\n",
    "consistent_teams = ['Kolkata Knight Riders', 'Chennai Super Kings', 'Rajasthan Royals',\n",
    "       'Mumbai Indians', 'Kings XI Punjab','Royal Challengers Bangalore', 'Delhi Daredevils','Sunrisers Hyderabad']"
   ]
  },
  {
   "cell_type": "markdown",
   "metadata": {},
   "source": [
    "* Which ever consistent are present in bat_team and bowl_team we are going to take only those teams"
   ]
  },
  {
   "cell_type": "code",
   "execution_count": 15,
   "metadata": {},
   "outputs": [],
   "source": [
    "df = df[(df['bat_team'].isin(consistent_teams)) & (df['bowl_team'].isin(consistent_teams))]"
   ]
  },
  {
   "cell_type": "code",
   "execution_count": 16,
   "metadata": {},
   "outputs": [],
   "source": [
    "# Removing the first 5 overs data in every match\n",
    "df = df[df['overs'] >= 5.0]"
   ]
  },
  {
   "cell_type": "code",
   "execution_count": 17,
   "metadata": {},
   "outputs": [
    {
     "data": {
      "text/html": [
       "<div>\n",
       "<style scoped>\n",
       "    .dataframe tbody tr th:only-of-type {\n",
       "        vertical-align: middle;\n",
       "    }\n",
       "\n",
       "    .dataframe tbody tr th {\n",
       "        vertical-align: top;\n",
       "    }\n",
       "\n",
       "    .dataframe thead th {\n",
       "        text-align: right;\n",
       "    }\n",
       "</style>\n",
       "<table border=\"1\" class=\"dataframe\">\n",
       "  <thead>\n",
       "    <tr style=\"text-align: right;\">\n",
       "      <th></th>\n",
       "      <th>date</th>\n",
       "      <th>bat_team</th>\n",
       "      <th>bowl_team</th>\n",
       "      <th>runs</th>\n",
       "      <th>wickets</th>\n",
       "      <th>overs</th>\n",
       "      <th>runs_last_5</th>\n",
       "      <th>wickets_last_5</th>\n",
       "      <th>striker</th>\n",
       "      <th>non-striker</th>\n",
       "      <th>total</th>\n",
       "    </tr>\n",
       "  </thead>\n",
       "  <tbody>\n",
       "    <tr>\n",
       "      <th>32</th>\n",
       "      <td>2008-04-18</td>\n",
       "      <td>Kolkata Knight Riders</td>\n",
       "      <td>Royal Challengers Bangalore</td>\n",
       "      <td>61</td>\n",
       "      <td>0</td>\n",
       "      <td>5.1</td>\n",
       "      <td>59</td>\n",
       "      <td>0</td>\n",
       "      <td>41</td>\n",
       "      <td>10</td>\n",
       "      <td>222</td>\n",
       "    </tr>\n",
       "    <tr>\n",
       "      <th>33</th>\n",
       "      <td>2008-04-18</td>\n",
       "      <td>Kolkata Knight Riders</td>\n",
       "      <td>Royal Challengers Bangalore</td>\n",
       "      <td>61</td>\n",
       "      <td>1</td>\n",
       "      <td>5.2</td>\n",
       "      <td>59</td>\n",
       "      <td>1</td>\n",
       "      <td>41</td>\n",
       "      <td>10</td>\n",
       "      <td>222</td>\n",
       "    </tr>\n",
       "    <tr>\n",
       "      <th>34</th>\n",
       "      <td>2008-04-18</td>\n",
       "      <td>Kolkata Knight Riders</td>\n",
       "      <td>Royal Challengers Bangalore</td>\n",
       "      <td>61</td>\n",
       "      <td>1</td>\n",
       "      <td>5.3</td>\n",
       "      <td>59</td>\n",
       "      <td>1</td>\n",
       "      <td>41</td>\n",
       "      <td>0</td>\n",
       "      <td>222</td>\n",
       "    </tr>\n",
       "    <tr>\n",
       "      <th>35</th>\n",
       "      <td>2008-04-18</td>\n",
       "      <td>Kolkata Knight Riders</td>\n",
       "      <td>Royal Challengers Bangalore</td>\n",
       "      <td>61</td>\n",
       "      <td>1</td>\n",
       "      <td>5.4</td>\n",
       "      <td>59</td>\n",
       "      <td>1</td>\n",
       "      <td>41</td>\n",
       "      <td>0</td>\n",
       "      <td>222</td>\n",
       "    </tr>\n",
       "    <tr>\n",
       "      <th>36</th>\n",
       "      <td>2008-04-18</td>\n",
       "      <td>Kolkata Knight Riders</td>\n",
       "      <td>Royal Challengers Bangalore</td>\n",
       "      <td>61</td>\n",
       "      <td>1</td>\n",
       "      <td>5.5</td>\n",
       "      <td>58</td>\n",
       "      <td>1</td>\n",
       "      <td>41</td>\n",
       "      <td>0</td>\n",
       "      <td>222</td>\n",
       "    </tr>\n",
       "  </tbody>\n",
       "</table>\n",
       "</div>"
      ],
      "text/plain": [
       "          date               bat_team                    bowl_team  runs  \\\n",
       "32  2008-04-18  Kolkata Knight Riders  Royal Challengers Bangalore    61   \n",
       "33  2008-04-18  Kolkata Knight Riders  Royal Challengers Bangalore    61   \n",
       "34  2008-04-18  Kolkata Knight Riders  Royal Challengers Bangalore    61   \n",
       "35  2008-04-18  Kolkata Knight Riders  Royal Challengers Bangalore    61   \n",
       "36  2008-04-18  Kolkata Knight Riders  Royal Challengers Bangalore    61   \n",
       "\n",
       "    wickets  overs  runs_last_5  wickets_last_5  striker  non-striker  total  \n",
       "32        0    5.1           59               0       41           10    222  \n",
       "33        1    5.2           59               1       41           10    222  \n",
       "34        1    5.3           59               1       41            0    222  \n",
       "35        1    5.4           59               1       41            0    222  \n",
       "36        1    5.5           58               1       41            0    222  "
      ]
     },
     "execution_count": 17,
     "metadata": {},
     "output_type": "execute_result"
    }
   ],
   "source": [
    "df.head()"
   ]
  },
  {
   "cell_type": "code",
   "execution_count": 18,
   "metadata": {},
   "outputs": [
    {
     "data": {
      "text/plain": [
       "dtype('O')"
      ]
     },
     "execution_count": 18,
     "metadata": {},
     "output_type": "execute_result"
    }
   ],
   "source": [
    "df['date'].dtype"
   ]
  },
  {
   "cell_type": "code",
   "execution_count": 19,
   "metadata": {},
   "outputs": [],
   "source": [
    "# Converting date to from string to datetime object\n",
    "\n",
    "df['date'] = pd.to_datetime(df['date'])"
   ]
  },
  {
   "cell_type": "code",
   "execution_count": 20,
   "metadata": {},
   "outputs": [
    {
     "data": {
      "text/html": [
       "<div>\n",
       "<style scoped>\n",
       "    .dataframe tbody tr th:only-of-type {\n",
       "        vertical-align: middle;\n",
       "    }\n",
       "\n",
       "    .dataframe tbody tr th {\n",
       "        vertical-align: top;\n",
       "    }\n",
       "\n",
       "    .dataframe thead th {\n",
       "        text-align: right;\n",
       "    }\n",
       "</style>\n",
       "<table border=\"1\" class=\"dataframe\">\n",
       "  <thead>\n",
       "    <tr style=\"text-align: right;\">\n",
       "      <th></th>\n",
       "      <th>date</th>\n",
       "      <th>bat_team</th>\n",
       "      <th>bowl_team</th>\n",
       "      <th>runs</th>\n",
       "      <th>wickets</th>\n",
       "      <th>overs</th>\n",
       "      <th>runs_last_5</th>\n",
       "      <th>wickets_last_5</th>\n",
       "      <th>striker</th>\n",
       "      <th>non-striker</th>\n",
       "      <th>total</th>\n",
       "    </tr>\n",
       "  </thead>\n",
       "  <tbody>\n",
       "    <tr>\n",
       "      <th>32</th>\n",
       "      <td>2008-04-18</td>\n",
       "      <td>Kolkata Knight Riders</td>\n",
       "      <td>Royal Challengers Bangalore</td>\n",
       "      <td>61</td>\n",
       "      <td>0</td>\n",
       "      <td>5.1</td>\n",
       "      <td>59</td>\n",
       "      <td>0</td>\n",
       "      <td>41</td>\n",
       "      <td>10</td>\n",
       "      <td>222</td>\n",
       "    </tr>\n",
       "    <tr>\n",
       "      <th>33</th>\n",
       "      <td>2008-04-18</td>\n",
       "      <td>Kolkata Knight Riders</td>\n",
       "      <td>Royal Challengers Bangalore</td>\n",
       "      <td>61</td>\n",
       "      <td>1</td>\n",
       "      <td>5.2</td>\n",
       "      <td>59</td>\n",
       "      <td>1</td>\n",
       "      <td>41</td>\n",
       "      <td>10</td>\n",
       "      <td>222</td>\n",
       "    </tr>\n",
       "    <tr>\n",
       "      <th>34</th>\n",
       "      <td>2008-04-18</td>\n",
       "      <td>Kolkata Knight Riders</td>\n",
       "      <td>Royal Challengers Bangalore</td>\n",
       "      <td>61</td>\n",
       "      <td>1</td>\n",
       "      <td>5.3</td>\n",
       "      <td>59</td>\n",
       "      <td>1</td>\n",
       "      <td>41</td>\n",
       "      <td>0</td>\n",
       "      <td>222</td>\n",
       "    </tr>\n",
       "    <tr>\n",
       "      <th>35</th>\n",
       "      <td>2008-04-18</td>\n",
       "      <td>Kolkata Knight Riders</td>\n",
       "      <td>Royal Challengers Bangalore</td>\n",
       "      <td>61</td>\n",
       "      <td>1</td>\n",
       "      <td>5.4</td>\n",
       "      <td>59</td>\n",
       "      <td>1</td>\n",
       "      <td>41</td>\n",
       "      <td>0</td>\n",
       "      <td>222</td>\n",
       "    </tr>\n",
       "    <tr>\n",
       "      <th>36</th>\n",
       "      <td>2008-04-18</td>\n",
       "      <td>Kolkata Knight Riders</td>\n",
       "      <td>Royal Challengers Bangalore</td>\n",
       "      <td>61</td>\n",
       "      <td>1</td>\n",
       "      <td>5.5</td>\n",
       "      <td>58</td>\n",
       "      <td>1</td>\n",
       "      <td>41</td>\n",
       "      <td>0</td>\n",
       "      <td>222</td>\n",
       "    </tr>\n",
       "  </tbody>\n",
       "</table>\n",
       "</div>"
      ],
      "text/plain": [
       "         date               bat_team                    bowl_team  runs  \\\n",
       "32 2008-04-18  Kolkata Knight Riders  Royal Challengers Bangalore    61   \n",
       "33 2008-04-18  Kolkata Knight Riders  Royal Challengers Bangalore    61   \n",
       "34 2008-04-18  Kolkata Knight Riders  Royal Challengers Bangalore    61   \n",
       "35 2008-04-18  Kolkata Knight Riders  Royal Challengers Bangalore    61   \n",
       "36 2008-04-18  Kolkata Knight Riders  Royal Challengers Bangalore    61   \n",
       "\n",
       "    wickets  overs  runs_last_5  wickets_last_5  striker  non-striker  total  \n",
       "32        0    5.1           59               0       41           10    222  \n",
       "33        1    5.2           59               1       41           10    222  \n",
       "34        1    5.3           59               1       41            0    222  \n",
       "35        1    5.4           59               1       41            0    222  \n",
       "36        1    5.5           58               1       41            0    222  "
      ]
     },
     "execution_count": 20,
     "metadata": {},
     "output_type": "execute_result"
    }
   ],
   "source": [
    "df.head()"
   ]
  },
  {
   "cell_type": "code",
   "execution_count": 21,
   "metadata": {},
   "outputs": [
    {
     "data": {
      "text/plain": [
       "dtype('<M8[ns]')"
      ]
     },
     "execution_count": 21,
     "metadata": {},
     "output_type": "execute_result"
    }
   ],
   "source": [
    "df['date'].dtype"
   ]
  },
  {
   "cell_type": "code",
   "execution_count": 22,
   "metadata": {},
   "outputs": [],
   "source": [
    "#Converting the categorical columns into numerical columns\n",
    "\n",
    "df = pd.get_dummies(data = df, columns=['bat_team', 'bowl_team'])"
   ]
  },
  {
   "cell_type": "code",
   "execution_count": 23,
   "metadata": {},
   "outputs": [
    {
     "data": {
      "text/html": [
       "<div>\n",
       "<style scoped>\n",
       "    .dataframe tbody tr th:only-of-type {\n",
       "        vertical-align: middle;\n",
       "    }\n",
       "\n",
       "    .dataframe tbody tr th {\n",
       "        vertical-align: top;\n",
       "    }\n",
       "\n",
       "    .dataframe thead th {\n",
       "        text-align: right;\n",
       "    }\n",
       "</style>\n",
       "<table border=\"1\" class=\"dataframe\">\n",
       "  <thead>\n",
       "    <tr style=\"text-align: right;\">\n",
       "      <th></th>\n",
       "      <th>date</th>\n",
       "      <th>runs</th>\n",
       "      <th>wickets</th>\n",
       "      <th>overs</th>\n",
       "      <th>runs_last_5</th>\n",
       "      <th>wickets_last_5</th>\n",
       "      <th>striker</th>\n",
       "      <th>non-striker</th>\n",
       "      <th>total</th>\n",
       "      <th>bat_team_Chennai Super Kings</th>\n",
       "      <th>...</th>\n",
       "      <th>bat_team_Royal Challengers Bangalore</th>\n",
       "      <th>bat_team_Sunrisers Hyderabad</th>\n",
       "      <th>bowl_team_Chennai Super Kings</th>\n",
       "      <th>bowl_team_Delhi Daredevils</th>\n",
       "      <th>bowl_team_Kings XI Punjab</th>\n",
       "      <th>bowl_team_Kolkata Knight Riders</th>\n",
       "      <th>bowl_team_Mumbai Indians</th>\n",
       "      <th>bowl_team_Rajasthan Royals</th>\n",
       "      <th>bowl_team_Royal Challengers Bangalore</th>\n",
       "      <th>bowl_team_Sunrisers Hyderabad</th>\n",
       "    </tr>\n",
       "  </thead>\n",
       "  <tbody>\n",
       "    <tr>\n",
       "      <th>32</th>\n",
       "      <td>2008-04-18</td>\n",
       "      <td>61</td>\n",
       "      <td>0</td>\n",
       "      <td>5.1</td>\n",
       "      <td>59</td>\n",
       "      <td>0</td>\n",
       "      <td>41</td>\n",
       "      <td>10</td>\n",
       "      <td>222</td>\n",
       "      <td>0</td>\n",
       "      <td>...</td>\n",
       "      <td>0</td>\n",
       "      <td>0</td>\n",
       "      <td>0</td>\n",
       "      <td>0</td>\n",
       "      <td>0</td>\n",
       "      <td>0</td>\n",
       "      <td>0</td>\n",
       "      <td>0</td>\n",
       "      <td>1</td>\n",
       "      <td>0</td>\n",
       "    </tr>\n",
       "    <tr>\n",
       "      <th>33</th>\n",
       "      <td>2008-04-18</td>\n",
       "      <td>61</td>\n",
       "      <td>1</td>\n",
       "      <td>5.2</td>\n",
       "      <td>59</td>\n",
       "      <td>1</td>\n",
       "      <td>41</td>\n",
       "      <td>10</td>\n",
       "      <td>222</td>\n",
       "      <td>0</td>\n",
       "      <td>...</td>\n",
       "      <td>0</td>\n",
       "      <td>0</td>\n",
       "      <td>0</td>\n",
       "      <td>0</td>\n",
       "      <td>0</td>\n",
       "      <td>0</td>\n",
       "      <td>0</td>\n",
       "      <td>0</td>\n",
       "      <td>1</td>\n",
       "      <td>0</td>\n",
       "    </tr>\n",
       "    <tr>\n",
       "      <th>34</th>\n",
       "      <td>2008-04-18</td>\n",
       "      <td>61</td>\n",
       "      <td>1</td>\n",
       "      <td>5.3</td>\n",
       "      <td>59</td>\n",
       "      <td>1</td>\n",
       "      <td>41</td>\n",
       "      <td>0</td>\n",
       "      <td>222</td>\n",
       "      <td>0</td>\n",
       "      <td>...</td>\n",
       "      <td>0</td>\n",
       "      <td>0</td>\n",
       "      <td>0</td>\n",
       "      <td>0</td>\n",
       "      <td>0</td>\n",
       "      <td>0</td>\n",
       "      <td>0</td>\n",
       "      <td>0</td>\n",
       "      <td>1</td>\n",
       "      <td>0</td>\n",
       "    </tr>\n",
       "    <tr>\n",
       "      <th>35</th>\n",
       "      <td>2008-04-18</td>\n",
       "      <td>61</td>\n",
       "      <td>1</td>\n",
       "      <td>5.4</td>\n",
       "      <td>59</td>\n",
       "      <td>1</td>\n",
       "      <td>41</td>\n",
       "      <td>0</td>\n",
       "      <td>222</td>\n",
       "      <td>0</td>\n",
       "      <td>...</td>\n",
       "      <td>0</td>\n",
       "      <td>0</td>\n",
       "      <td>0</td>\n",
       "      <td>0</td>\n",
       "      <td>0</td>\n",
       "      <td>0</td>\n",
       "      <td>0</td>\n",
       "      <td>0</td>\n",
       "      <td>1</td>\n",
       "      <td>0</td>\n",
       "    </tr>\n",
       "    <tr>\n",
       "      <th>36</th>\n",
       "      <td>2008-04-18</td>\n",
       "      <td>61</td>\n",
       "      <td>1</td>\n",
       "      <td>5.5</td>\n",
       "      <td>58</td>\n",
       "      <td>1</td>\n",
       "      <td>41</td>\n",
       "      <td>0</td>\n",
       "      <td>222</td>\n",
       "      <td>0</td>\n",
       "      <td>...</td>\n",
       "      <td>0</td>\n",
       "      <td>0</td>\n",
       "      <td>0</td>\n",
       "      <td>0</td>\n",
       "      <td>0</td>\n",
       "      <td>0</td>\n",
       "      <td>0</td>\n",
       "      <td>0</td>\n",
       "      <td>1</td>\n",
       "      <td>0</td>\n",
       "    </tr>\n",
       "  </tbody>\n",
       "</table>\n",
       "<p>5 rows × 25 columns</p>\n",
       "</div>"
      ],
      "text/plain": [
       "         date  runs  wickets  overs  runs_last_5  wickets_last_5  striker  \\\n",
       "32 2008-04-18    61        0    5.1           59               0       41   \n",
       "33 2008-04-18    61        1    5.2           59               1       41   \n",
       "34 2008-04-18    61        1    5.3           59               1       41   \n",
       "35 2008-04-18    61        1    5.4           59               1       41   \n",
       "36 2008-04-18    61        1    5.5           58               1       41   \n",
       "\n",
       "    non-striker  total  bat_team_Chennai Super Kings  ...  \\\n",
       "32           10    222                             0  ...   \n",
       "33           10    222                             0  ...   \n",
       "34            0    222                             0  ...   \n",
       "35            0    222                             0  ...   \n",
       "36            0    222                             0  ...   \n",
       "\n",
       "    bat_team_Royal Challengers Bangalore  bat_team_Sunrisers Hyderabad  \\\n",
       "32                                     0                             0   \n",
       "33                                     0                             0   \n",
       "34                                     0                             0   \n",
       "35                                     0                             0   \n",
       "36                                     0                             0   \n",
       "\n",
       "    bowl_team_Chennai Super Kings  bowl_team_Delhi Daredevils  \\\n",
       "32                              0                           0   \n",
       "33                              0                           0   \n",
       "34                              0                           0   \n",
       "35                              0                           0   \n",
       "36                              0                           0   \n",
       "\n",
       "    bowl_team_Kings XI Punjab  bowl_team_Kolkata Knight Riders  \\\n",
       "32                          0                                0   \n",
       "33                          0                                0   \n",
       "34                          0                                0   \n",
       "35                          0                                0   \n",
       "36                          0                                0   \n",
       "\n",
       "    bowl_team_Mumbai Indians  bowl_team_Rajasthan Royals  \\\n",
       "32                         0                           0   \n",
       "33                         0                           0   \n",
       "34                         0                           0   \n",
       "35                         0                           0   \n",
       "36                         0                           0   \n",
       "\n",
       "    bowl_team_Royal Challengers Bangalore  bowl_team_Sunrisers Hyderabad  \n",
       "32                                      1                              0  \n",
       "33                                      1                              0  \n",
       "34                                      1                              0  \n",
       "35                                      1                              0  \n",
       "36                                      1                              0  \n",
       "\n",
       "[5 rows x 25 columns]"
      ]
     },
     "execution_count": 23,
     "metadata": {},
     "output_type": "execute_result"
    }
   ],
   "source": [
    "df.head()"
   ]
  },
  {
   "cell_type": "code",
   "execution_count": 24,
   "metadata": {},
   "outputs": [],
   "source": [
    "#Rearranging the columns\n",
    "\n",
    "df = df[['date', 'bat_team_Chennai Super Kings', 'bat_team_Delhi Daredevils', 'bat_team_Kings XI Punjab',\n",
    "              'bat_team_Kolkata Knight Riders', 'bat_team_Mumbai Indians', 'bat_team_Rajasthan Royals',\n",
    "              'bat_team_Royal Challengers Bangalore', 'bat_team_Sunrisers Hyderabad',\n",
    "              'bowl_team_Chennai Super Kings', 'bowl_team_Delhi Daredevils', 'bowl_team_Kings XI Punjab',\n",
    "              'bowl_team_Kolkata Knight Riders', 'bowl_team_Mumbai Indians', 'bowl_team_Rajasthan Royals',\n",
    "              'bowl_team_Royal Challengers Bangalore', 'bowl_team_Sunrisers Hyderabad',\n",
    "              'overs', 'runs', 'wickets', 'runs_last_5', 'wickets_last_5', 'striker', 'non-striker','total']]\n"
   ]
  },
  {
   "cell_type": "code",
   "execution_count": 25,
   "metadata": {},
   "outputs": [
    {
     "data": {
      "text/html": [
       "<div>\n",
       "<style scoped>\n",
       "    .dataframe tbody tr th:only-of-type {\n",
       "        vertical-align: middle;\n",
       "    }\n",
       "\n",
       "    .dataframe tbody tr th {\n",
       "        vertical-align: top;\n",
       "    }\n",
       "\n",
       "    .dataframe thead th {\n",
       "        text-align: right;\n",
       "    }\n",
       "</style>\n",
       "<table border=\"1\" class=\"dataframe\">\n",
       "  <thead>\n",
       "    <tr style=\"text-align: right;\">\n",
       "      <th></th>\n",
       "      <th>date</th>\n",
       "      <th>bat_team_Chennai Super Kings</th>\n",
       "      <th>bat_team_Delhi Daredevils</th>\n",
       "      <th>bat_team_Kings XI Punjab</th>\n",
       "      <th>bat_team_Kolkata Knight Riders</th>\n",
       "      <th>bat_team_Mumbai Indians</th>\n",
       "      <th>bat_team_Rajasthan Royals</th>\n",
       "      <th>bat_team_Royal Challengers Bangalore</th>\n",
       "      <th>bat_team_Sunrisers Hyderabad</th>\n",
       "      <th>bowl_team_Chennai Super Kings</th>\n",
       "      <th>...</th>\n",
       "      <th>bowl_team_Royal Challengers Bangalore</th>\n",
       "      <th>bowl_team_Sunrisers Hyderabad</th>\n",
       "      <th>overs</th>\n",
       "      <th>runs</th>\n",
       "      <th>wickets</th>\n",
       "      <th>runs_last_5</th>\n",
       "      <th>wickets_last_5</th>\n",
       "      <th>striker</th>\n",
       "      <th>non-striker</th>\n",
       "      <th>total</th>\n",
       "    </tr>\n",
       "  </thead>\n",
       "  <tbody>\n",
       "    <tr>\n",
       "      <th>32</th>\n",
       "      <td>2008-04-18</td>\n",
       "      <td>0</td>\n",
       "      <td>0</td>\n",
       "      <td>0</td>\n",
       "      <td>1</td>\n",
       "      <td>0</td>\n",
       "      <td>0</td>\n",
       "      <td>0</td>\n",
       "      <td>0</td>\n",
       "      <td>0</td>\n",
       "      <td>...</td>\n",
       "      <td>1</td>\n",
       "      <td>0</td>\n",
       "      <td>5.1</td>\n",
       "      <td>61</td>\n",
       "      <td>0</td>\n",
       "      <td>59</td>\n",
       "      <td>0</td>\n",
       "      <td>41</td>\n",
       "      <td>10</td>\n",
       "      <td>222</td>\n",
       "    </tr>\n",
       "    <tr>\n",
       "      <th>33</th>\n",
       "      <td>2008-04-18</td>\n",
       "      <td>0</td>\n",
       "      <td>0</td>\n",
       "      <td>0</td>\n",
       "      <td>1</td>\n",
       "      <td>0</td>\n",
       "      <td>0</td>\n",
       "      <td>0</td>\n",
       "      <td>0</td>\n",
       "      <td>0</td>\n",
       "      <td>...</td>\n",
       "      <td>1</td>\n",
       "      <td>0</td>\n",
       "      <td>5.2</td>\n",
       "      <td>61</td>\n",
       "      <td>1</td>\n",
       "      <td>59</td>\n",
       "      <td>1</td>\n",
       "      <td>41</td>\n",
       "      <td>10</td>\n",
       "      <td>222</td>\n",
       "    </tr>\n",
       "    <tr>\n",
       "      <th>34</th>\n",
       "      <td>2008-04-18</td>\n",
       "      <td>0</td>\n",
       "      <td>0</td>\n",
       "      <td>0</td>\n",
       "      <td>1</td>\n",
       "      <td>0</td>\n",
       "      <td>0</td>\n",
       "      <td>0</td>\n",
       "      <td>0</td>\n",
       "      <td>0</td>\n",
       "      <td>...</td>\n",
       "      <td>1</td>\n",
       "      <td>0</td>\n",
       "      <td>5.3</td>\n",
       "      <td>61</td>\n",
       "      <td>1</td>\n",
       "      <td>59</td>\n",
       "      <td>1</td>\n",
       "      <td>41</td>\n",
       "      <td>0</td>\n",
       "      <td>222</td>\n",
       "    </tr>\n",
       "    <tr>\n",
       "      <th>35</th>\n",
       "      <td>2008-04-18</td>\n",
       "      <td>0</td>\n",
       "      <td>0</td>\n",
       "      <td>0</td>\n",
       "      <td>1</td>\n",
       "      <td>0</td>\n",
       "      <td>0</td>\n",
       "      <td>0</td>\n",
       "      <td>0</td>\n",
       "      <td>0</td>\n",
       "      <td>...</td>\n",
       "      <td>1</td>\n",
       "      <td>0</td>\n",
       "      <td>5.4</td>\n",
       "      <td>61</td>\n",
       "      <td>1</td>\n",
       "      <td>59</td>\n",
       "      <td>1</td>\n",
       "      <td>41</td>\n",
       "      <td>0</td>\n",
       "      <td>222</td>\n",
       "    </tr>\n",
       "    <tr>\n",
       "      <th>36</th>\n",
       "      <td>2008-04-18</td>\n",
       "      <td>0</td>\n",
       "      <td>0</td>\n",
       "      <td>0</td>\n",
       "      <td>1</td>\n",
       "      <td>0</td>\n",
       "      <td>0</td>\n",
       "      <td>0</td>\n",
       "      <td>0</td>\n",
       "      <td>0</td>\n",
       "      <td>...</td>\n",
       "      <td>1</td>\n",
       "      <td>0</td>\n",
       "      <td>5.5</td>\n",
       "      <td>61</td>\n",
       "      <td>1</td>\n",
       "      <td>58</td>\n",
       "      <td>1</td>\n",
       "      <td>41</td>\n",
       "      <td>0</td>\n",
       "      <td>222</td>\n",
       "    </tr>\n",
       "  </tbody>\n",
       "</table>\n",
       "<p>5 rows × 25 columns</p>\n",
       "</div>"
      ],
      "text/plain": [
       "         date  bat_team_Chennai Super Kings  bat_team_Delhi Daredevils  \\\n",
       "32 2008-04-18                             0                          0   \n",
       "33 2008-04-18                             0                          0   \n",
       "34 2008-04-18                             0                          0   \n",
       "35 2008-04-18                             0                          0   \n",
       "36 2008-04-18                             0                          0   \n",
       "\n",
       "    bat_team_Kings XI Punjab  bat_team_Kolkata Knight Riders  \\\n",
       "32                         0                               1   \n",
       "33                         0                               1   \n",
       "34                         0                               1   \n",
       "35                         0                               1   \n",
       "36                         0                               1   \n",
       "\n",
       "    bat_team_Mumbai Indians  bat_team_Rajasthan Royals  \\\n",
       "32                        0                          0   \n",
       "33                        0                          0   \n",
       "34                        0                          0   \n",
       "35                        0                          0   \n",
       "36                        0                          0   \n",
       "\n",
       "    bat_team_Royal Challengers Bangalore  bat_team_Sunrisers Hyderabad  \\\n",
       "32                                     0                             0   \n",
       "33                                     0                             0   \n",
       "34                                     0                             0   \n",
       "35                                     0                             0   \n",
       "36                                     0                             0   \n",
       "\n",
       "    bowl_team_Chennai Super Kings  ...  bowl_team_Royal Challengers Bangalore  \\\n",
       "32                              0  ...                                      1   \n",
       "33                              0  ...                                      1   \n",
       "34                              0  ...                                      1   \n",
       "35                              0  ...                                      1   \n",
       "36                              0  ...                                      1   \n",
       "\n",
       "    bowl_team_Sunrisers Hyderabad  overs  runs  wickets  runs_last_5  \\\n",
       "32                              0    5.1    61        0           59   \n",
       "33                              0    5.2    61        1           59   \n",
       "34                              0    5.3    61        1           59   \n",
       "35                              0    5.4    61        1           59   \n",
       "36                              0    5.5    61        1           58   \n",
       "\n",
       "    wickets_last_5  striker  non-striker  total  \n",
       "32               0       41           10    222  \n",
       "33               1       41           10    222  \n",
       "34               1       41            0    222  \n",
       "35               1       41            0    222  \n",
       "36               1       41            0    222  \n",
       "\n",
       "[5 rows x 25 columns]"
      ]
     },
     "execution_count": 25,
     "metadata": {},
     "output_type": "execute_result"
    }
   ],
   "source": [
    "df.head()"
   ]
  },
  {
   "cell_type": "code",
   "execution_count": 26,
   "metadata": {},
   "outputs": [],
   "source": [
    "# Splitting the dataset in Independent and Dependent variables\n",
    "\n",
    "x = df.iloc[:,:-1]\n",
    "y = df.iloc[:,-1]"
   ]
  },
  {
   "cell_type": "code",
   "execution_count": 27,
   "metadata": {},
   "outputs": [
    {
     "data": {
      "text/html": [
       "<div>\n",
       "<style scoped>\n",
       "    .dataframe tbody tr th:only-of-type {\n",
       "        vertical-align: middle;\n",
       "    }\n",
       "\n",
       "    .dataframe tbody tr th {\n",
       "        vertical-align: top;\n",
       "    }\n",
       "\n",
       "    .dataframe thead th {\n",
       "        text-align: right;\n",
       "    }\n",
       "</style>\n",
       "<table border=\"1\" class=\"dataframe\">\n",
       "  <thead>\n",
       "    <tr style=\"text-align: right;\">\n",
       "      <th></th>\n",
       "      <th>date</th>\n",
       "      <th>bat_team_Chennai Super Kings</th>\n",
       "      <th>bat_team_Delhi Daredevils</th>\n",
       "      <th>bat_team_Kings XI Punjab</th>\n",
       "      <th>bat_team_Kolkata Knight Riders</th>\n",
       "      <th>bat_team_Mumbai Indians</th>\n",
       "      <th>bat_team_Rajasthan Royals</th>\n",
       "      <th>bat_team_Royal Challengers Bangalore</th>\n",
       "      <th>bat_team_Sunrisers Hyderabad</th>\n",
       "      <th>bowl_team_Chennai Super Kings</th>\n",
       "      <th>...</th>\n",
       "      <th>bowl_team_Kolkata Knight Riders</th>\n",
       "      <th>bowl_team_Mumbai Indians</th>\n",
       "      <th>bowl_team_Rajasthan Royals</th>\n",
       "      <th>bowl_team_Royal Challengers Bangalore</th>\n",
       "      <th>bowl_team_Sunrisers Hyderabad</th>\n",
       "      <th>overs</th>\n",
       "      <th>runs</th>\n",
       "      <th>wickets</th>\n",
       "      <th>runs_last_5</th>\n",
       "      <th>wickets_last_5</th>\n",
       "    </tr>\n",
       "  </thead>\n",
       "  <tbody>\n",
       "    <tr>\n",
       "      <th>32</th>\n",
       "      <td>2008-04-18</td>\n",
       "      <td>0</td>\n",
       "      <td>0</td>\n",
       "      <td>0</td>\n",
       "      <td>1</td>\n",
       "      <td>0</td>\n",
       "      <td>0</td>\n",
       "      <td>0</td>\n",
       "      <td>0</td>\n",
       "      <td>0</td>\n",
       "      <td>...</td>\n",
       "      <td>0</td>\n",
       "      <td>0</td>\n",
       "      <td>0</td>\n",
       "      <td>1</td>\n",
       "      <td>0</td>\n",
       "      <td>5.1</td>\n",
       "      <td>61</td>\n",
       "      <td>0</td>\n",
       "      <td>59</td>\n",
       "      <td>0</td>\n",
       "    </tr>\n",
       "    <tr>\n",
       "      <th>33</th>\n",
       "      <td>2008-04-18</td>\n",
       "      <td>0</td>\n",
       "      <td>0</td>\n",
       "      <td>0</td>\n",
       "      <td>1</td>\n",
       "      <td>0</td>\n",
       "      <td>0</td>\n",
       "      <td>0</td>\n",
       "      <td>0</td>\n",
       "      <td>0</td>\n",
       "      <td>...</td>\n",
       "      <td>0</td>\n",
       "      <td>0</td>\n",
       "      <td>0</td>\n",
       "      <td>1</td>\n",
       "      <td>0</td>\n",
       "      <td>5.2</td>\n",
       "      <td>61</td>\n",
       "      <td>1</td>\n",
       "      <td>59</td>\n",
       "      <td>1</td>\n",
       "    </tr>\n",
       "    <tr>\n",
       "      <th>34</th>\n",
       "      <td>2008-04-18</td>\n",
       "      <td>0</td>\n",
       "      <td>0</td>\n",
       "      <td>0</td>\n",
       "      <td>1</td>\n",
       "      <td>0</td>\n",
       "      <td>0</td>\n",
       "      <td>0</td>\n",
       "      <td>0</td>\n",
       "      <td>0</td>\n",
       "      <td>...</td>\n",
       "      <td>0</td>\n",
       "      <td>0</td>\n",
       "      <td>0</td>\n",
       "      <td>1</td>\n",
       "      <td>0</td>\n",
       "      <td>5.3</td>\n",
       "      <td>61</td>\n",
       "      <td>1</td>\n",
       "      <td>59</td>\n",
       "      <td>1</td>\n",
       "    </tr>\n",
       "    <tr>\n",
       "      <th>35</th>\n",
       "      <td>2008-04-18</td>\n",
       "      <td>0</td>\n",
       "      <td>0</td>\n",
       "      <td>0</td>\n",
       "      <td>1</td>\n",
       "      <td>0</td>\n",
       "      <td>0</td>\n",
       "      <td>0</td>\n",
       "      <td>0</td>\n",
       "      <td>0</td>\n",
       "      <td>...</td>\n",
       "      <td>0</td>\n",
       "      <td>0</td>\n",
       "      <td>0</td>\n",
       "      <td>1</td>\n",
       "      <td>0</td>\n",
       "      <td>5.4</td>\n",
       "      <td>61</td>\n",
       "      <td>1</td>\n",
       "      <td>59</td>\n",
       "      <td>1</td>\n",
       "    </tr>\n",
       "    <tr>\n",
       "      <th>36</th>\n",
       "      <td>2008-04-18</td>\n",
       "      <td>0</td>\n",
       "      <td>0</td>\n",
       "      <td>0</td>\n",
       "      <td>1</td>\n",
       "      <td>0</td>\n",
       "      <td>0</td>\n",
       "      <td>0</td>\n",
       "      <td>0</td>\n",
       "      <td>0</td>\n",
       "      <td>...</td>\n",
       "      <td>0</td>\n",
       "      <td>0</td>\n",
       "      <td>0</td>\n",
       "      <td>1</td>\n",
       "      <td>0</td>\n",
       "      <td>5.5</td>\n",
       "      <td>61</td>\n",
       "      <td>1</td>\n",
       "      <td>58</td>\n",
       "      <td>1</td>\n",
       "    </tr>\n",
       "  </tbody>\n",
       "</table>\n",
       "<p>5 rows × 22 columns</p>\n",
       "</div>"
      ],
      "text/plain": [
       "         date  bat_team_Chennai Super Kings  bat_team_Delhi Daredevils  \\\n",
       "32 2008-04-18                             0                          0   \n",
       "33 2008-04-18                             0                          0   \n",
       "34 2008-04-18                             0                          0   \n",
       "35 2008-04-18                             0                          0   \n",
       "36 2008-04-18                             0                          0   \n",
       "\n",
       "    bat_team_Kings XI Punjab  bat_team_Kolkata Knight Riders  \\\n",
       "32                         0                               1   \n",
       "33                         0                               1   \n",
       "34                         0                               1   \n",
       "35                         0                               1   \n",
       "36                         0                               1   \n",
       "\n",
       "    bat_team_Mumbai Indians  bat_team_Rajasthan Royals  \\\n",
       "32                        0                          0   \n",
       "33                        0                          0   \n",
       "34                        0                          0   \n",
       "35                        0                          0   \n",
       "36                        0                          0   \n",
       "\n",
       "    bat_team_Royal Challengers Bangalore  bat_team_Sunrisers Hyderabad  \\\n",
       "32                                     0                             0   \n",
       "33                                     0                             0   \n",
       "34                                     0                             0   \n",
       "35                                     0                             0   \n",
       "36                                     0                             0   \n",
       "\n",
       "    bowl_team_Chennai Super Kings  ...  bowl_team_Kolkata Knight Riders  \\\n",
       "32                              0  ...                                0   \n",
       "33                              0  ...                                0   \n",
       "34                              0  ...                                0   \n",
       "35                              0  ...                                0   \n",
       "36                              0  ...                                0   \n",
       "\n",
       "    bowl_team_Mumbai Indians  bowl_team_Rajasthan Royals  \\\n",
       "32                         0                           0   \n",
       "33                         0                           0   \n",
       "34                         0                           0   \n",
       "35                         0                           0   \n",
       "36                         0                           0   \n",
       "\n",
       "    bowl_team_Royal Challengers Bangalore  bowl_team_Sunrisers Hyderabad  \\\n",
       "32                                      1                              0   \n",
       "33                                      1                              0   \n",
       "34                                      1                              0   \n",
       "35                                      1                              0   \n",
       "36                                      1                              0   \n",
       "\n",
       "    overs  runs  wickets  runs_last_5  wickets_last_5  \n",
       "32    5.1    61        0           59               0  \n",
       "33    5.2    61        1           59               1  \n",
       "34    5.3    61        1           59               1  \n",
       "35    5.4    61        1           59               1  \n",
       "36    5.5    61        1           58               1  \n",
       "\n",
       "[5 rows x 22 columns]"
      ]
     },
     "execution_count": 27,
     "metadata": {},
     "output_type": "execute_result"
    }
   ],
   "source": [
    "x.drop(['striker', 'non-striker'], axis=1, inplace=True)\n",
    "x.head()"
   ]
  },
  {
   "cell_type": "code",
   "execution_count": 28,
   "metadata": {},
   "outputs": [],
   "source": [
    "# Splitting the data using train test split\n",
    "# You should split the time series data in this way\n",
    "# Train test split should not be done ramdomly for time series kind of data\n",
    "\n",
    "x_train = df.drop(labels='total', axis=1)[df['date'].dt.year <= 2016]\n",
    "x_test = df.drop(labels='total', axis=1)[df['date'].dt.year >= 2017]"
   ]
  },
  {
   "cell_type": "code",
   "execution_count": 29,
   "metadata": {},
   "outputs": [],
   "source": [
    "y_train = df[df['date'].dt.year <= 2016]['total'].values\n",
    "y_test = df[df['date'].dt.year >=2017]['total'].values"
   ]
  },
  {
   "cell_type": "code",
   "execution_count": 30,
   "metadata": {},
   "outputs": [],
   "source": [
    "#Removing the date column\n",
    "x_train.drop(labels='date', axis=True, inplace=True)\n",
    "x_test.drop(labels='date', axis=True, inplace=True)"
   ]
  },
  {
   "cell_type": "code",
   "execution_count": 31,
   "metadata": {},
   "outputs": [],
   "source": [
    "#MOdel Building \n",
    "# Applying linear regression"
   ]
  },
  {
   "cell_type": "code",
   "execution_count": 32,
   "metadata": {},
   "outputs": [
    {
     "data": {
      "text/plain": [
       "LinearRegression(copy_X=True, fit_intercept=True, n_jobs=None, normalize=False)"
      ]
     },
     "execution_count": 32,
     "metadata": {},
     "output_type": "execute_result"
    }
   ],
   "source": [
    "from sklearn.linear_model import LinearRegression\n",
    "regressor = LinearRegression()\n",
    "\n",
    "regressor.fit(x_train, y_train)"
   ]
  },
  {
   "cell_type": "code",
   "execution_count": 33,
   "metadata": {},
   "outputs": [],
   "source": [
    "from sklearn.model_selection import cross_val_score"
   ]
  },
  {
   "cell_type": "code",
   "execution_count": 34,
   "metadata": {},
   "outputs": [],
   "source": [
    "regressor_score = cross_val_score(regressor, x, y, cv=5)\n"
   ]
  },
  {
   "cell_type": "code",
   "execution_count": 35,
   "metadata": {},
   "outputs": [
    {
     "name": "stdout",
     "output_type": "stream",
     "text": [
      "Mean Absolute Error: 12.13 degrees.\n"
     ]
    }
   ],
   "source": [
    "# Use the forest's predict method on the test data\n",
    "predictions = regressor.predict(x_test)\n",
    "# Calculate the absolute errors\n",
    "linear_reg_errors = abs(predictions - y_test)\n",
    "# Print out the mean absolute error (mae)\n",
    "print('Mean Absolute Error:', round(np.mean(linear_reg_errors), 2), 'degrees.')"
   ]
  },
  {
   "cell_type": "code",
   "execution_count": 37,
   "metadata": {},
   "outputs": [
    {
     "name": "stdout",
     "output_type": "stream",
     "text": [
      "Accuracy for linear regression is : 91.69 %.\n"
     ]
    }
   ],
   "source": [
    "# Calculate mean absolute percentage error (MAPE)\n",
    "mape = 100 * (linear_reg_errors / y_test)\n",
    "# Calculate and display accuracy\n",
    "linear_reg_accuracy = 100 - np.mean(mape)\n",
    "print('Accuracy for linear regression is :', round(linear_reg_accuracy, 2), '%.')"
   ]
  },
  {
   "cell_type": "code",
   "execution_count": 38,
   "metadata": {},
   "outputs": [
    {
     "data": {
      "text/plain": [
       "<matplotlib.axes._subplots.AxesSubplot at 0x7fc337677400>"
      ]
     },
     "execution_count": 38,
     "metadata": {},
     "output_type": "execute_result"
    },
    {
     "data": {
      "image/png": "[encoded data removed]",
      "text/plain": [
       "<Figure size 432x288 with 1 Axes>"
      ]
     },
     "metadata": {
      "needs_background": "light"
     },
     "output_type": "display_data"
    }
   ],
   "source": [
    "sns.distplot(y_test-predictions)"
   ]
  },
  {
   "cell_type": "code",
   "execution_count": 39,
   "metadata": {},
   "outputs": [],
   "source": [
    "# Applying Random Forest Regressor"
   ]
  },
  {
   "cell_type": "code",
   "execution_count": 40,
   "metadata": {},
   "outputs": [
    {
     "data": {
      "text/plain": [
       "RandomForestRegressor(bootstrap=True, ccp_alpha=0.0, criterion='mse',\n",
       "                      max_depth=None, max_features='auto', max_leaf_nodes=None,\n",
       "                      max_samples=None, min_impurity_decrease=0.0,\n",
       "                      min_impurity_split=None, min_samples_leaf=1,\n",
       "                      min_samples_split=2, min_weight_fraction_leaf=0.0,\n",
       "                      n_estimators=100, n_jobs=None, oob_score=False,\n",
       "                      random_state=None, verbose=0, warm_start=False)"
      ]
     },
     "execution_count": 40,
     "metadata": {},
     "output_type": "execute_result"
    }
   ],
   "source": [
    "from sklearn.ensemble import RandomForestRegressor\n",
    "\n",
    "rf = RandomForestRegressor()\n",
    "\n",
    "rf.fit(x_train, y_train)"
   ]
  },
  {
   "cell_type": "code",
   "execution_count": 41,
   "metadata": {},
   "outputs": [],
   "source": [
    "rf_score = cross_val_score(rf, x, y, cv=5)\n"
   ]
  },
  {
   "cell_type": "code",
   "execution_count": 42,
   "metadata": {},
   "outputs": [
    {
     "name": "stdout",
     "output_type": "stream",
     "text": [
      "Mean Absolute Error: 13.57 degrees.\n"
     ]
    }
   ],
   "source": [
    "# Use the forest's predict method on the test data\n",
    "rf_predictions = rf.predict(x_test)\n",
    "# Calculate the absolute errors\n",
    "rf_errors = abs(rf_predictions - y_test)\n",
    "# Print out the mean absolute error (mae)\n",
    "print('Mean Absolute Error:', round(np.mean(rf_errors), 2), 'degrees.')"
   ]
  },
  {
   "cell_type": "code",
   "execution_count": 44,
   "metadata": {},
   "outputs": [
    {
     "name": "stdout",
     "output_type": "stream",
     "text": [
      "Accuracy for Random Forest is : 91.17 %.\n"
     ]
    }
   ],
   "source": [
    "# Calculate mean absolute percentage error (MAPE)\n",
    "mape = 100 * (rf_errors / y_test)\n",
    "# Calculate and display accuracy\n",
    "random_forest_accuracy = 100 - np.mean(mape)\n",
    "print('Accuracy for Random Forest is :', round(random_forest_accuracy, 2), '%.')"
   ]
  },
  {
   "cell_type": "code",
   "execution_count": 45,
   "metadata": {},
   "outputs": [
    {
     "data": {
      "text/plain": [
       "<matplotlib.axes._subplots.AxesSubplot at 0x7fc333c42438>"
      ]
     },
     "execution_count": 45,
     "metadata": {},
     "output_type": "execute_result"
    },
    {
     "data": {
      "image/png": "[encoded data removed]",
      "text/plain": [
       "<Figure size 432x288 with 1 Axes>"
      ]
     },
     "metadata": {
      "needs_background": "light"
     },
     "output_type": "display_data"
    }
   ],
   "source": [
    "sns.distplot(y_test-rf_predictions)"
   ]
  },
  {
   "cell_type": "code",
   "execution_count": 46,
   "metadata": {},
   "outputs": [],
   "source": [
    "#Using Decision Tree Regressor"
   ]
  },
  {
   "cell_type": "code",
   "execution_count": 47,
   "metadata": {},
   "outputs": [],
   "source": [
    "from sklearn.tree import DecisionTreeRegressor\n",
    "\n",
    "dtree = DecisionTreeRegressor()\n",
    "dtree.fit(x_train, y_train)\n",
    "\n",
    "dtree_score = cross_val_score(dtree, x, y, cv=5)\n"
   ]
  },
  {
   "cell_type": "code",
   "execution_count": 48,
   "metadata": {},
   "outputs": [
    {
     "name": "stdout",
     "output_type": "stream",
     "text": [
      "Mean Absolute Error: 18.21 degrees.\n"
     ]
    }
   ],
   "source": [
    "# Use the forest's predict method on the test data\n",
    "dtree_predictions = dtree.predict(x_test)\n",
    "# Calculate the absolute errors\n",
    "dtree_errors = abs(dtree_predictions - y_test)\n",
    "# Print out the mean absolute error (mae)\n",
    "print('Mean Absolute Error:', round(np.mean(dtree_errors), 2), 'degrees.')"
   ]
  },
  {
   "cell_type": "code",
   "execution_count": 49,
   "metadata": {},
   "outputs": [
    {
     "name": "stdout",
     "output_type": "stream",
     "text": [
      "Accuracy for Decision Tree is : 88.03 %.\n"
     ]
    }
   ],
   "source": [
    "# Calculate mean absolute percentage error (MAPE)\n",
    "mape = 100 * (dtree_errors / y_test)\n",
    "# Calculate and display accuracy\n",
    "dtree_accuracy = 100 - np.mean(mape)\n",
    "print('Accuracy for Decision Tree is :', round(dtree_accuracy, 2), '%.')"
   ]
  },
  {
   "cell_type": "code",
   "execution_count": 50,
   "metadata": {},
   "outputs": [
    {
     "data": {
      "text/plain": [
       "<matplotlib.axes._subplots.AxesSubplot at 0x7fc330a8e278>"
      ]
     },
     "execution_count": 50,
     "metadata": {},
     "output_type": "execute_result"
    },
    {
     "data": {
      "image/png": "[encoded data removed]",
      "text/plain": [
       "<Figure size 432x288 with 1 Axes>"
      ]
     },
     "metadata": {
      "needs_background": "light"
     },
     "output_type": "display_data"
    }
   ],
   "source": [
    "sns.distplot(y_test-dtree_predictions)"
   ]
  },
  {
   "cell_type": "code",
   "execution_count": 51,
   "metadata": {},
   "outputs": [],
   "source": [
    "# Applying xgboost Regressor"
   ]
  },
  {
   "cell_type": "code",
   "execution_count": 52,
   "metadata": {},
   "outputs": [
    {
     "data": {
      "text/plain": [
       "XGBRegressor(base_score=0.5, booster=None, colsample_bylevel=1,\n",
       "             colsample_bynode=1, colsample_bytree=1, gamma=0, gpu_id=-1,\n",
       "             importance_type='gain', interaction_constraints=None,\n",
       "             learning_rate=0.300000012, max_delta_step=0, max_depth=6,\n",
       "             min_child_weight=1, missing=nan, monotone_constraints=None,\n",
       "             n_estimators=100, n_jobs=0, num_parallel_tree=1,\n",
       "             objective='reg:squarederror', random_state=0, reg_alpha=0,\n",
       "             reg_lambda=1, scale_pos_weight=1, subsample=1, tree_method=None,\n",
       "             validate_parameters=False, verbosity=None)"
      ]
     },
     "execution_count": 52,
     "metadata": {},
     "output_type": "execute_result"
    }
   ],
   "source": [
    "from xgboost import  XGBRegressor\n",
    "\n",
    "xgb = XGBRegressor()\n",
    "\n",
    "xgb.fit(x_train, y_train)\n"
   ]
  },
  {
   "cell_type": "code",
   "execution_count": 53,
   "metadata": {},
   "outputs": [
    {
     "name": "stdout",
     "output_type": "stream",
     "text": [
      "Mean Absolute Error: 13.87 degrees.\n"
     ]
    }
   ],
   "source": [
    "# Use the forest's predict method on the test data\n",
    "xgb_predictions = xgb.predict(x_test)\n",
    "# Calculate the absolute errors\n",
    "xgb_errors = abs(xgb_predictions - y_test)\n",
    "# Print out the mean absolute error (mae)\n",
    "print('Mean Absolute Error:', round(np.mean(xgb_errors), 2), 'degrees.')"
   ]
  },
  {
   "cell_type": "code",
   "execution_count": 54,
   "metadata": {},
   "outputs": [
    {
     "name": "stdout",
     "output_type": "stream",
     "text": [
      "Accuracy for XGBoost is : 91.12 %.\n"
     ]
    }
   ],
   "source": [
    "# Calculate mean absolute percentage error (MAPE)\n",
    "mape = 100 * (xgb_errors / y_test)\n",
    "# Calculate and display accuracy\n",
    "xgb_accuracy = 100 - np.mean(mape)\n",
    "print('Accuracy for XGBoost is :', round(xgb_accuracy, 2), '%.')"
   ]
  },
  {
   "cell_type": "code",
   "execution_count": 55,
   "metadata": {},
   "outputs": [
    {
     "data": {
      "text/plain": [
       "<matplotlib.axes._subplots.AxesSubplot at 0x7fc329f96438>"
      ]
     },
     "execution_count": 55,
     "metadata": {},
     "output_type": "execute_result"
    },
    {
     "data": {
      "image/png": "[encoded data removed]",
      "text/plain": [
       "<Figure size 432x288 with 1 Axes>"
      ]
     },
     "metadata": {
      "needs_background": "light"
     },
     "output_type": "display_data"
    }
   ],
   "source": [
    "sns.distplot(y_test-xgb_predictions)"
   ]
  },
  {
   "cell_type": "code",
   "execution_count": 56,
   "metadata": {},
   "outputs": [],
   "source": [
    "#Applying Ridge Regression"
   ]
  },
  {
   "cell_type": "code",
   "execution_count": 57,
   "metadata": {},
   "outputs": [],
   "source": [
    "from sklearn.linear_model import Ridge\n",
    "from sklearn.model_selection import GridSearchCV\n",
    "#Grid-searching can be applied across machine learning to calculate the best parameters to use for any given model"
   ]
  },
  {
   "cell_type": "code",
   "execution_count": 58,
   "metadata": {},
   "outputs": [
    {
     "data": {
      "text/plain": [
       "GridSearchCV(cv=5, error_score=nan,\n",
       "             estimator=Ridge(alpha=1.0, copy_X=True, fit_intercept=True,\n",
       "                             max_iter=None, normalize=False, random_state=None,\n",
       "                             solver='auto', tol=0.001),\n",
       "             iid='deprecated', n_jobs=None,\n",
       "             param_grid={'alpha': [1e-15, 1e-10, 1e-08, 0.001, 0.01, 5, 10, 20,\n",
       "                                   30, 35, 40]},\n",
       "             pre_dispatch='2*n_jobs', refit=True, return_train_score=False,\n",
       "             scoring='neg_mean_squared_error', verbose=0)"
      ]
     },
     "execution_count": 58,
     "metadata": {},
     "output_type": "execute_result"
    }
   ],
   "source": [
    "ridge = Ridge()\n",
    "parameters = {'alpha' : [1e-15,1e-10,1e-8,1e-3,1e-2,5,10,20,30,35,40]}\n",
    "ridge_regressor = GridSearchCV(ridge,parameters,scoring='neg_mean_squared_error',cv=5)\n",
    "ridge_regressor.fit(x_train,y_train)"
   ]
  },
  {
   "cell_type": "code",
   "execution_count": 62,
   "metadata": {},
   "outputs": [
    {
     "name": "stdout",
     "output_type": "stream",
     "text": [
      "Mean Absolute Error: 12.13 degrees.\n"
     ]
    }
   ],
   "source": [
    "# Use the forest's predict method on the test data\n",
    "ridge_predictions = ridge_regressor.predict(x_test)\n",
    "# Calculate the absolute errors\n",
    "ridge_errors = abs(ridge_predictions - y_test)\n",
    "# Print out the mean absolute error (mae)\n",
    "print('Mean Absolute Error:', round(np.mean(ridge_errors), 2), 'degrees.')"
   ]
  },
  {
   "cell_type": "code",
   "execution_count": 63,
   "metadata": {},
   "outputs": [
    {
     "name": "stdout",
     "output_type": "stream",
     "text": [
      "Accuracy for ridge is : 91.69 %.\n"
     ]
    }
   ],
   "source": [
    "# Calculate mean absolute percentage error (MAPE)\n",
    "mape = 100 * (ridge_errors / y_test)\n",
    "# Calculate and display accuracy\n",
    "ridge_accuracy = 100 - np.mean(mape)\n",
    "print('Accuracy for ridge is :', round(ridge_accuracy, 2), '%.')"
   ]
  },
  {
   "cell_type": "code",
   "execution_count": 64,
   "metadata": {},
   "outputs": [
    {
     "data": {
      "text/plain": [
       "<matplotlib.axes._subplots.AxesSubplot at 0x7fc329e89780>"
      ]
     },
     "execution_count": 64,
     "metadata": {},
     "output_type": "execute_result"
    },
    {
     "data": {
      "image/png": "[encoded data removed]",
      "text/plain": [
       "<Figure size 432x288 with 1 Axes>"
      ]
     },
     "metadata": {
      "needs_background": "light"
     },
     "output_type": "display_data"
    }
   ],
   "source": [
    "sns.distplot(y_test-ridge_predictions)"
   ]
  },
  {
   "cell_type": "code",
   "execution_count": 65,
   "metadata": {},
   "outputs": [],
   "source": [
    "# Applying lasso regression"
   ]
  },
  {
   "cell_type": "code",
   "execution_count": 66,
   "metadata": {},
   "outputs": [
    {
     "name": "stdout",
     "output_type": "stream",
     "text": [
      "{'alpha': 1}\n",
      "-321.0962564991655\n"
     ]
    }
   ],
   "source": [
    "from sklearn.linear_model import Lasso\n",
    "\n",
    "lasso = Lasso()\n",
    "parameters = {'alpha' : [1e-15,1e-10,1e-8,1e-3,1e-2,1,5,10,20,30,35,40\n",
    "                        ]}\n",
    "lasso_regressor = GridSearchCV(lasso,parameters,scoring='neg_mean_squared_error',cv=5)\n",
    "lasso_regressor.fit(x_train,y_train)\n",
    "\n",
    "print(lasso_regressor.best_params_)\n",
    "print(lasso_regressor.best_score_)"
   ]
  },
  {
   "cell_type": "code",
   "execution_count": 67,
   "metadata": {},
   "outputs": [
    {
     "name": "stdout",
     "output_type": "stream",
     "text": [
      "Mean Absolute Error: 12.21 degrees.\n"
     ]
    }
   ],
   "source": [
    "# Use the forest's predict method on the test data\n",
    "lasso_predictions = lasso_regressor.predict(x_test)\n",
    "# Calculate the absolute errors\n",
    "lasso_errors = abs(lasso_predictions - y_test)\n",
    "# Print out the mean absolute error (mae)\n",
    "print('Mean Absolute Error:', round(np.mean(lasso_errors), 2), 'degrees.')"
   ]
  },
  {
   "cell_type": "code",
   "execution_count": 68,
   "metadata": {},
   "outputs": [
    {
     "name": "stdout",
     "output_type": "stream",
     "text": [
      "Accuracy for lasso is : 91.59 %.\n"
     ]
    }
   ],
   "source": [
    "# Calculate mean absolute percentage error (MAPE)\n",
    "mape = 100 * (lasso_errors / y_test)\n",
    "# Calculate and display accuracy\n",
    "lasso_accuracy = 100 - np.mean(mape)\n",
    "print('Accuracy for lasso is :', round(lasso_accuracy, 2), '%.')"
   ]
  },
  {
   "cell_type": "code",
   "execution_count": 69,
   "metadata": {},
   "outputs": [
    {
     "data": {
      "text/plain": [
       "<matplotlib.axes._subplots.AxesSubplot at 0x7fc329d800f0>"
      ]
     },
     "execution_count": 69,
     "metadata": {},
     "output_type": "execute_result"
    },
    {
     "data": {
      "image/png": "[encoded data removed]",
      "text/plain": [
       "<Figure size 432x288 with 1 Axes>"
      ]
     },
     "metadata": {
      "needs_background": "light"
     },
     "output_type": "display_data"
    }
   ],
   "source": [
    "sns.distplot(y_test-lasso_predictions)"
   ]
  },
  {
   "cell_type": "code",
   "execution_count": 70,
   "metadata": {},
   "outputs": [],
   "source": [
    "accuracy_df = pd.DataFrame({\n",
    "    'Aglorithm_Name' : [\"Linear Regression\", 'Decision Tree', 'Random Forest', 'XGBoost', 'Ridge Regressor', 'Lasso Regressor'],\n",
    "    'Accuracy Score' : [linear_reg_accuracy, dtree_accuracy, random_forest_accuracy, xgb_accuracy, ridge_accuracy,\n",
    "                       lasso_accuracy]\n",
    "})"
   ]
  },
  {
   "cell_type": "code",
   "execution_count": 71,
   "metadata": {},
   "outputs": [
    {
     "data": {
      "text/html": [
       "<div>\n",
       "<style scoped>\n",
       "    .dataframe tbody tr th:only-of-type {\n",
       "        vertical-align: middle;\n",
       "    }\n",
       "\n",
       "    .dataframe tbody tr th {\n",
       "        vertical-align: top;\n",
       "    }\n",
       "\n",
       "    .dataframe thead th {\n",
       "        text-align: right;\n",
       "    }\n",
       "</style>\n",
       "<table border=\"1\" class=\"dataframe\">\n",
       "  <thead>\n",
       "    <tr style=\"text-align: right;\">\n",
       "      <th></th>\n",
       "      <th>Aglorithm_Name</th>\n",
       "      <th>Accuracy Score</th>\n",
       "    </tr>\n",
       "  </thead>\n",
       "  <tbody>\n",
       "    <tr>\n",
       "      <th>0</th>\n",
       "      <td>Linear Regression</td>\n",
       "      <td>91.687787</td>\n",
       "    </tr>\n",
       "    <tr>\n",
       "      <th>1</th>\n",
       "      <td>Decision Tree</td>\n",
       "      <td>88.034745</td>\n",
       "    </tr>\n",
       "    <tr>\n",
       "      <th>2</th>\n",
       "      <td>Random Forest</td>\n",
       "      <td>91.168367</td>\n",
       "    </tr>\n",
       "    <tr>\n",
       "      <th>3</th>\n",
       "      <td>XGBoost</td>\n",
       "      <td>91.124698</td>\n",
       "    </tr>\n",
       "    <tr>\n",
       "      <th>4</th>\n",
       "      <td>Ridge Regressor</td>\n",
       "      <td>91.688250</td>\n",
       "    </tr>\n",
       "    <tr>\n",
       "      <th>5</th>\n",
       "      <td>Lasso Regressor</td>\n",
       "      <td>91.585508</td>\n",
       "    </tr>\n",
       "  </tbody>\n",
       "</table>\n",
       "</div>"
      ],
      "text/plain": [
       "      Aglorithm_Name  Accuracy Score\n",
       "0  Linear Regression       91.687787\n",
       "1      Decision Tree       88.034745\n",
       "2      Random Forest       91.168367\n",
       "3            XGBoost       91.124698\n",
       "4    Ridge Regressor       91.688250\n",
       "5    Lasso Regressor       91.585508"
      ]
     },
     "execution_count": 71,
     "metadata": {},
     "output_type": "execute_result"
    }
   ],
   "source": [
    "accuracy_df"
   ]
  },
  {
   "cell_type": "code",
   "execution_count": 72,
   "metadata": {},
   "outputs": [],
   "source": [
    "import pickle"
   ]
  },
  {
   "cell_type": "code",
   "execution_count": 73,
   "metadata": {},
   "outputs": [],
   "source": [
    "# Creating a pickle file for the classifier\n",
    "filename = 'first-innings-score-lr-model.pkl'\n",
    "pickle.dump(regressor, open(filename, 'wb'))"
   ]
  },
  {
   "cell_type": "code",
   "execution_count": null,
   "metadata": {},
   "outputs": [],
   "source": []
  }
 ],
 "metadata": {
  "kernelspec": {
   "display_name": "Python 3",
   "language": "python",
   "name": "python3"
  },
  "language_info": {
   "codemirror_mode": {
    "name": "ipython",
    "version": 3
   },
   "file_extension": ".py",
   "mimetype": "text/x-python",
   "name": "python",
   "nbconvert_exporter": "python",
   "pygments_lexer": "ipython3",
   "version": "3.7.3"
  }
 },
 "nbformat": 4,
 "nbformat_minor": 2
}
